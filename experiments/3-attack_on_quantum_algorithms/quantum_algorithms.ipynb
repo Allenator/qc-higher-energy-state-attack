{
 "cells": [
  {
   "cell_type": "code",
   "execution_count": 1,
   "id": "354fa7fe-f140-4bfd-8a07-d44f23a08fdf",
   "metadata": {},
   "outputs": [],
   "source": [
    "import warnings\n",
    "warnings.filterwarnings('ignore')\n",
    "import json\n",
    "\n",
    "from qiskit.tools.jupyter import *\n",
    "from qiskit import IBMQ\n",
    "from qiskit import pulse                  # This is where we access all of our Pulse features!\n",
    "from qiskit.circuit import Parameter      # This is Parameter Class for variable parameters.\n",
    "from qiskit.circuit import QuantumCircuit, Gate\n",
    "from qiskit import transpile, schedule, assemble\n",
    "from qiskit.tools.monitor import job_monitor\n",
    "from qiskit.visualization import plot_histogram\n",
    "\n",
    "import numpy as np\n",
    "import matplotlib.pyplot as plt\n",
    "import matplotlib as mpl\n",
    "\n",
    "from scipy.optimize import curve_fit"
   ]
  },
  {
   "cell_type": "code",
   "execution_count": 2,
   "id": "88d31db2-3460-4e73-b20e-92350521fb46",
   "metadata": {},
   "outputs": [],
   "source": [
    "import sys, os\n",
    "sys.path.insert(0, '../..')\n",
    "from utils.circuit_utils import get_closest_multiple_of, get_closest_multiple_of_16\n",
    "from utils.job_utils import get_job_data, save_job, load_job\n",
    "from utils.result_utils import baseline_remove, fit_function, single_qubit_count\n",
    "from utils.higher_energy_states.pulse_gate import Sched"
   ]
  },
  {
   "cell_type": "code",
   "execution_count": null,
   "id": "bd65e2c5-0c26-4de3-ae45-728fbd24a8ef",
   "metadata": {},
   "outputs": [],
   "source": [
    "with open(r\"../provider.json\", \"r\") as f:\n",
    "    credential = json.load(f)\n",
    "\n",
    "IBMQ.load_account()\n",
    "provider = IBMQ.get_provider(hub = credential[\"hub\"], group = credential[\"group\"], project = credential[\"project\"])\n",
    "backend = provider.get_backend(\"ibm_lagos\")"
   ]
  },
  {
   "cell_type": "code",
   "execution_count": 4,
   "id": "595da77d-bf14-4b83-ba12-77e14308f0d8",
   "metadata": {},
   "outputs": [],
   "source": [
    "sched = Sched(backend)\n",
    "sched.load_gate_data(os.path.join(\"..\", \"data\", f\"{backend.configuration().backend_name}_gate_data.json\"))\n",
    "sched.create_scheds()"
   ]
  },
  {
   "cell_type": "code",
   "execution_count": 5,
   "id": "64f5f0ad-75fc-44eb-98fc-8601430d52a1",
   "metadata": {},
   "outputs": [],
   "source": [
    "num_qubit = backend.configuration().n_qubits\n",
    "acquire_alignment = backend.configuration().timing_constraints['acquire_alignment']\n",
    "granularity = backend.configuration().timing_constraints['granularity']\n",
    "pulse_alignment = backend.configuration().timing_constraints['pulse_alignment']\n",
    "dt = backend.configuration().dt\n",
    "basis_gates = backend.configuration().basis_gates\n",
    "basis_gates"
   ]
  },
  {
   "cell_type": "markdown",
   "id": "e90b7e7d-c70c-40d7-9d40-16b190885658",
   "metadata": {},
   "source": [
    "# Helper Fcuntions"
   ]
  },
  {
   "cell_type": "code",
   "execution_count": 8,
   "id": "9c14aa7f-468f-4502-b9bd-0d18ca7e9e25",
   "metadata": {},
   "outputs": [],
   "source": [
    "x_gate = QuantumCircuit(1)\n",
    "x_gate.x(0)\n",
    "x_duration = schedule(x_gate, backend).duration\n",
    "\n",
    "def gen_circ(circ_type, num_reset, qubit_list, add_secure_reset=False, reset_qubit_list = None, add_delay = False, measure = True):\n",
    "    qubit_list = list(range(num_qubit))\n",
    "\n",
    "    x12_duration = 160\n",
    "    x23_duration = 160\n",
    "    \n",
    "    circ = QuantumCircuit(num_qubit)\n",
    "    if circ_type == -1:\n",
    "        pass\n",
    "    elif circ_type == 0:\n",
    "        if add_delay:\n",
    "            circ.delay(x_duration + x12_duration + x23_duration, qubit_list)\n",
    "    elif circ_type == 1:\n",
    "        if add_delay:\n",
    "            circ.delay(x12_duration + x23_duration, qubit_list)\n",
    "        circ.x(qubit_list)\n",
    "    elif circ_type == 2:\n",
    "        if add_delay:\n",
    "            circ.delay(x23_duration, qubit_list)\n",
    "        circ.x(qubit_list)\n",
    "        x12_gate = Gate(\"x12_gate\", 1, [])\n",
    "        for qubit in qubit_list:\n",
    "            circ.append(x12_gate, [qubit])\n",
    "            circ.add_calibration(x12_gate, (qubit, ), sched.get_sched(label = 'X12', qubit = qubit))\n",
    "    elif circ_type == 3:\n",
    "        circ.x(qubit_list)\n",
    "        x12_gate = Gate(\"x12_gate\", 1, [])\n",
    "        x23_gate = Gate(\"x23_gate\", 1, [])\n",
    "        for qubit in qubit_list:\n",
    "            circ.append(x12_gate, [qubit])\n",
    "            circ.add_calibration(x12_gate, (qubit, ), sched.get_sched(label = 'X12', qubit = qubit))\n",
    "            circ.append(x23_gate, [qubit])\n",
    "            circ.add_calibration(x23_gate, (qubit, ), sched.get_sched(label = 'X23', qubit = qubit))\n",
    "    for _ in range(num_reset):\n",
    "        if add_secure_reset:\n",
    "            x12_gate = Gate(\"x12_gate\", 1, [])\n",
    "            x23_gate = Gate(\"x23_gate\", 1, [])\n",
    "            if reset_qubit_list:\n",
    "                for qubit in reset_qubit_list:\n",
    "                    circ.reset(qubit)\n",
    "                    circ.append(x12_gate, [qubit])\n",
    "                    circ.add_calibration(x12_gate, (qubit, ), sched.get_sched(label = 'X12', qubit = qubit))\n",
    "                    circ.reset(qubit)\n",
    "                    circ.append(x23_gate, [qubit])\n",
    "                    circ.add_calibration(x23_gate, (qubit, ), sched.get_sched(label = 'X23', qubit = qubit))\n",
    "                    circ.append(x12_gate, [qubit])\n",
    "                    circ.add_calibration(x12_gate, (qubit, ), sched.get_sched(label = 'X12', qubit = qubit))\n",
    "                    circ.reset(qubit)\n",
    "            else:\n",
    "                for qubit in qubit_list:\n",
    "                    circ.reset(qubit)\n",
    "                    circ.append(x12_gate, [qubit])\n",
    "                    circ.add_calibration(x12_gate, (qubit, ), sched.get_sched(label = 'X12', qubit = qubit))\n",
    "                    circ.reset(qubit)\n",
    "                    circ.append(x23_gate, [qubit])\n",
    "                    circ.add_calibration(x23_gate, (qubit, ), sched.get_sched(label = 'X23', qubit = qubit))\n",
    "                    circ.append(x12_gate, [qubit])\n",
    "                    circ.add_calibration(x12_gate, (qubit, ), sched.get_sched(label = 'X12', qubit = qubit))\n",
    "                    circ.reset(qubit)\n",
    "        else:\n",
    "            circ.reset(qubit_list)\n",
    "    if measure:\n",
    "        circ.measure_all()\n",
    "    \n",
    "    return circ\n",
    "\n",
    "def gen_exp_circs_state(num_exp, num_reset):\n",
    "    circs = [gen_circ(circ_type = i, num_reset = num_reset) for i in range(3)]\n",
    "    return [circ for circ in circs for _ in range(num_exp)]\n",
    "\n",
    "def gen_exp_circs_num_reset(circ_type, num_exp, num_reset_qubit_list):\n",
    "    circs = [gen_circ(circ_type = circ_type, num_reset = num_reset) for num_reset in num_reset_qubit_list]\n",
    "    return [circ for circ in circs for _ in range(num_exp)]\n",
    "\n",
    "def gen_exp_circs_rep_delay(num_exp, rep_delay_list):\n",
    "    return [assemble(gen_circ(2, 0), backend, rep_delay=rep_delay) for rep_delay in rep_delay_list]"
   ]
  },
  {
   "cell_type": "code",
   "execution_count": 5,
   "id": "5ddee362-4c75-4498-9a17-518819e15805",
   "metadata": {},
   "outputs": [],
   "source": [
    "def gen_exp_circ(name, initial_state = 0, control = False, bad_state = '11', add_delay_end = False, delay_end = 0):\n",
    "    if name == 'dj':\n",
    "        circ = QuantumCircuit(3, 2)\n",
    "        if initial_state == 1:\n",
    "            circ.x(1)\n",
    "        elif initial_state == 2:\n",
    "            circ.x(1)\n",
    "            x12_gate = Gate(\"x12_gate\", 1, [])\n",
    "            circ.append(x12_gate, [1])\n",
    "            circ.add_calibration(x12_gate, (1, ), sched.get_sched(label = 'X12', qubit = 1))\n",
    "        elif initial_state == 3:\n",
    "            circ.x(1)\n",
    "            x12_gate = Gate(\"x12_gate\", 1, [])\n",
    "            x23_gate = Gate(\"x23_gate\", 1, [])\n",
    "            circ.append(x12_gate, [1])\n",
    "            circ.add_calibration(x12_gate, (1, ), sched.get_sched(label = 'X12', qubit = 1))\n",
    "            circ.append(x23_gate, [1])\n",
    "            circ.add_calibration(x23_gate, (1, ), sched.get_sched(label = 'X23', qubit = 1))\n",
    "        circ.barrier()\n",
    "        \n",
    "        circ.x(1)\n",
    "        circ.h([0, 1, 2])\n",
    "        circ.barrier()\n",
    "        \n",
    "        if control:\n",
    "            duration_circ = QuantumCircuit(3)\n",
    "            duration_circ.cx(0, 1)\n",
    "            duration_circ.cx(2, 1)\n",
    "            duration = schedule(duration_circ, backend).duration\n",
    "            \n",
    "            circ.delay(duration, [0, 2])\n",
    "        else:\n",
    "            circ.cx(0, 1)\n",
    "            circ.cx(2, 1)\n",
    "\n",
    "        circ.barrier()\n",
    "\n",
    "        circ.h([0, 2])\n",
    "        \n",
    "        circ.barrier()\n",
    "        circ.measure([0, 2], [0, 1])\n",
    "        \n",
    "        if add_delay_end:\n",
    "            circ.delay(delay_end, [0, 1, 2])\n",
    "    \n",
    "    if name == 'gs':\n",
    "        from qiskit.circuit.library import GroverOperator\n",
    "        from qiskit.quantum_info import Statevector\n",
    "        \n",
    "        circ = QuantumCircuit(2, 2)\n",
    "        if initial_state == 1:\n",
    "            circ.x([0, 1])\n",
    "        elif initial_state == 2:\n",
    "            circ.x([0, 1])\n",
    "            x12_gate = Gate(\"x12_gate\", 1, [])\n",
    "            for qubit in [0, 1]:\n",
    "                circ.append(x12_gate, [qubit])\n",
    "                circ.add_calibration(x12_gate, (qubit, ), sched.get_sched(label = 'X12', qubit = qubit))\n",
    "        elif initial_state == 3:\n",
    "            circ.x([0, 1])\n",
    "            x12_gate = Gate(\"x12_gate\", 1, [])\n",
    "            x23_gate = Gate(\"x23_gate\", 1, [])\n",
    "            for qubit in [0, 1]:\n",
    "                circ.append(x12_gate, [qubit])\n",
    "                circ.add_calibration(x12_gate, (qubit, ), sched.get_sched(label = 'X12', qubit = qubit))\n",
    "                circ.append(x23_gate, [qubit])\n",
    "                circ.add_calibration(x23_gate, (qubit, ), sched.get_sched(label = 'X23', qubit = qubit))\n",
    "        \n",
    "        circ.barrier()\n",
    "        if control:\n",
    "            duration_circ = QuantumCircuit(2)\n",
    "            duration_circ.h([0, 1])\n",
    "            duration_circ.cz(0, 1)\n",
    "            duration_circ.h([0, 1])\n",
    "            duration_circ.z([0, 1])\n",
    "            duration_circ.cz(0, 1)\n",
    "            duration_circ.h([0, 1])\n",
    "            duration = schedule(transpile(duration_circ, backend), backend).duration\n",
    "            \n",
    "            circ.delay(duration, [0, 1])\n",
    "        else:\n",
    "            from qiskit.circuit.library import GroverOperator\n",
    "            #     from qiskit.quantum_info.operators import Operator\n",
    "            from qiskit.quantum_info import Statevector\n",
    "\n",
    "            #     oracle_matrix = Operator(np.eye(2 ** num_qubits))\n",
    "            #     oracle_matrix.data[bad_state, bad_state] = -1\n",
    "\n",
    "            mark_state = Statevector.from_label(bad_state)\n",
    "\n",
    "            # specify the Grover operator\n",
    "            # oracle = QuantumCircuit(num_qubits)\n",
    "            # oracle.h(bad_state)\n",
    "            # control_qubits = list(range(num_qubits))\n",
    "            # control_qubits.remove(bad_state)\n",
    "            # oracle.mct(control_qubits, bad_state)\n",
    "            # oracle.h(bad_state)\n",
    "            grover_op = GroverOperator(mark_state, insert_barriers=True).decompose()\n",
    "            \n",
    "            circ.h([0, 1])\n",
    "            circ.append(grover_op, [0, 1])\n",
    "            circ = circ.decompose()\n",
    "            \n",
    "            \n",
    "            # circ.h([0, 1])\n",
    "            # circ.cz(0, 1)\n",
    "            # circ.h([0, 1])\n",
    "            # circ.z([0, 1])\n",
    "            # circ.cz(0, 1)\n",
    "            # circ.h([0, 1])\n",
    "        \n",
    "        circ.barrier()\n",
    "        circ.measure([0, 1], [0, 1])\n",
    "        \n",
    "        if add_delay_end:\n",
    "            circ.delay(delay_end, [0, 1])\n",
    "        \n",
    "    return circ"
   ]
  },
  {
   "cell_type": "code",
   "execution_count": 10,
   "id": "e83d246b-c9a2-49d2-b7c2-b7186f496e7b",
   "metadata": {},
   "outputs": [],
   "source": [
    "def qft(circuit, n):\n",
    "    \"\"\"QFT on the first n qubits in circuit\"\"\"\n",
    "    \n",
    "    def qft_rotations(circuit, n):\n",
    "        \"\"\"Performs qft on the first n qubits in circuit (without swaps)\"\"\"\n",
    "        if n == 0:\n",
    "            return circuit\n",
    "        n -= 1\n",
    "        circuit.h(n)\n",
    "        for qubit in range(n):\n",
    "            circuit.cp(np.pi/2**(n-qubit), qubit, n)\n",
    "        # At the end of our function, we call the same function again on\n",
    "        # the next qubits (we reduced n by one earlier in the function)\n",
    "        qft_rotations(circuit, n)\n",
    "    \n",
    "    def swap_registers(circuit, n):\n",
    "        for qubit in range(n//2):\n",
    "            circuit.swap(qubit, n-qubit-1)\n",
    "        return circuit\n",
    "    \n",
    "    qft_rotations(circuit, n)\n",
    "    swap_registers(circuit, n)\n",
    "    return circuit\n",
    "\n",
    "def inverse_qft(circuit, n):\n",
    "    \"\"\"Does the inverse QFT on the first n qubits in circuit\"\"\"\n",
    "    # First we create a QFT circuit of the correct size:\n",
    "    qft_circ = qft(QuantumCircuit(n), n)\n",
    "    # Then we take the inverse of this circuit\n",
    "    invqft_circ = qft_circ.inverse()\n",
    "    # And add it to the first n qubits in our existing circuit\n",
    "    circuit.barrier()\n",
    "    circuit.append(invqft_circ, circuit.qubits[:n])\n",
    "    return circuit.decompose() # .decompose() allows us to see the individual gates"
   ]
  },
  {
   "cell_type": "markdown",
   "id": "75120d72-4e74-4275-8ab6-e25ab64c4748",
   "metadata": {},
   "source": [
    "# QFT"
   ]
  },
  {
   "cell_type": "code",
   "execution_count": 11,
   "id": "38956fda-10a7-460a-8b63-9c5e98384585",
   "metadata": {},
   "outputs": [],
   "source": [
    "from numpy import pi\n",
    "\n",
    "nqubits = 3\n",
    "number = 0\n",
    "qc = QuantumCircuit(nqubits)\n",
    "for qubit in range(nqubits):\n",
    "    qc.h(qubit)\n",
    "qc.p(number*pi/4,0)\n",
    "qc.p(number*pi/2,1)\n",
    "qc.p(number*pi,2)\n",
    "\n",
    "qft_circ = inverse_qft(qc, nqubits)\n",
    "qft_circ.measure_all()"
   ]
  },
  {
   "cell_type": "code",
   "execution_count": 12,
   "id": "b34e5b2f-f374-44cc-83a3-22705c231800",
   "metadata": {},
   "outputs": [],
   "source": [
    "exp_qft  = [qft_circ]\n",
    "\n",
    "qft_reset = qft_circ.copy()\n",
    "qft_reset.delay(2000000, [0, 1, 2])\n",
    "\n",
    "exp_qft.append(qft_reset)"
   ]
  },
  {
   "cell_type": "code",
   "execution_count": 13,
   "id": "efb495ec-6ac2-4267-9a17-53595b920cc5",
   "metadata": {},
   "outputs": [
    {
     "data": {
      "image/png": "[encoded data removed]",
      "text/plain": [
       "<Figure size 1140.28x264.88 with 1 Axes>"
      ]
     },
     "execution_count": 13,
     "metadata": {},
     "output_type": "execute_result"
    }
   ],
   "source": [
    "exp_qft[0].draw()"
   ]
  },
  {
   "cell_type": "code",
   "execution_count": 14,
   "id": "419bdd25-b05f-4a69-b97d-298f3d52b4f9",
   "metadata": {},
   "outputs": [
    {
     "data": {
      "image/png": "[encoded data removed]",
      "text/plain": [
       "<Figure size 1381.08x264.88 with 1 Axes>"
      ]
     },
     "execution_count": 14,
     "metadata": {},
     "output_type": "execute_result"
    }
   ],
   "source": [
    "exp_qft[1].draw()"
   ]
  },
  {
   "cell_type": "markdown",
   "id": "cbf75c06-e3e5-41ee-b8de-3a117e26a4e9",
   "metadata": {},
   "source": [
    "# Deutsch-Jozsa"
   ]
  },
  {
   "cell_type": "code",
   "execution_count": 16,
   "id": "13d76fe9-0ad2-484f-a0f6-8beb4929cdd5",
   "metadata": {},
   "outputs": [
    {
     "data": {
      "image/png": "[encoded data removed]",
      "text/plain": [
       "<Figure size 929.397x264.88 with 1 Axes>"
      ]
     },
     "execution_count": 16,
     "metadata": {},
     "output_type": "execute_result"
    }
   ],
   "source": [
    "gen_exp_circ('dj', initial_state = 0, add_delay_end = True, delay_end = 1000000).draw()"
   ]
  },
  {
   "cell_type": "code",
   "execution_count": 17,
   "id": "668ebf37-820c-4498-a962-4c154cba4bac",
   "metadata": {},
   "outputs": [
    {
     "data": {
      "image/png": "[encoded data removed]",
      "text/plain": [
       "<Figure size 869.197x264.88 with 1 Axes>"
      ]
     },
     "execution_count": 17,
     "metadata": {},
     "output_type": "execute_result"
    }
   ],
   "source": [
    "gen_exp_circ('dj', initial_state = 0, control = True, add_delay_end = True, delay_end = 1000000).draw()"
   ]
  },
  {
   "cell_type": "markdown",
   "id": "70b3fa4b-1948-4864-aa92-89f694c2df64",
   "metadata": {},
   "source": [
    "# Grover's Search"
   ]
  },
  {
   "cell_type": "code",
   "execution_count": 19,
   "id": "936f9d90-510e-42e7-b273-a85fbe1e02c6",
   "metadata": {},
   "outputs": [
    {
     "data": {
      "image/png": "[encoded data removed]",
      "text/plain": [
       "<Figure size 1290.45x204.68 with 1 Axes>"
      ]
     },
     "execution_count": 19,
     "metadata": {},
     "output_type": "execute_result"
    }
   ],
   "source": [
    "gen_exp_circ('gs', initial_state = 0, add_delay_end = True, delay_end = 1000000).draw()"
   ]
  },
  {
   "cell_type": "code",
   "execution_count": 20,
   "id": "97bc3734-5142-4aa1-aa1f-23e1067b302b",
   "metadata": {},
   "outputs": [
    {
     "data": {
      "image/png": "[encoded data removed]",
      "text/plain": [
       "<Figure size 1109.85x204.68 with 1 Axes>"
      ]
     },
     "execution_count": 20,
     "metadata": {},
     "output_type": "execute_result"
    }
   ],
   "source": [
    "gen_exp_circ('gs', initial_state = 0).draw()"
   ]
  },
  {
   "cell_type": "code",
   "execution_count": 21,
   "id": "50189196-9adf-4040-8277-6b2c0979c3da",
   "metadata": {},
   "outputs": [
    {
     "data": {
      "image/png": "[encoded data removed]",
      "text/plain": [
       "<Figure size 628.252x204.68 with 1 Axes>"
      ]
     },
     "execution_count": 21,
     "metadata": {},
     "output_type": "execute_result"
    }
   ],
   "source": [
    "gen_exp_circ('gs', initial_state = 2, control = True).draw()"
   ]
  },
  {
   "cell_type": "markdown",
   "id": "a32d3ba8-297a-41e6-8a11-50580d48459b",
   "metadata": {},
   "source": [
    "# EXP"
   ]
  },
  {
   "cell_type": "code",
   "execution_count": 26,
   "id": "f9330caf-6daf-4d55-b97a-7ef0ed31a3d0",
   "metadata": {},
   "outputs": [],
   "source": [
    "exp_circs = [[[gen_circ(0, 0, qubit_list = [1], reset_qubit_list = [0, 1, 2], add_delay = False, measure = False), gen_exp_circ('dj', initial_state = 0)],\n",
    "              [gen_circ(1, 0, qubit_list = [1], reset_qubit_list = [0, 1, 2], add_delay = False, measure = False), gen_exp_circ('dj', initial_state = 0)],\n",
    "              [gen_circ(2, 0, qubit_list = [1], reset_qubit_list = [0, 1, 2], add_delay = False, measure = False), gen_exp_circ('dj', initial_state = 0)],\n",
    "              [gen_circ(3, 0, qubit_list = [1], reset_qubit_list = [0, 1, 2], add_delay = False, measure = False), gen_exp_circ('dj', initial_state = 0)]],\n",
    "              \n",
    "              [[gen_circ(0, 1, qubit_list = [1], reset_qubit_list = [0, 1, 2], add_delay = False, measure = False), gen_exp_circ('dj', initial_state = 0)],\n",
    "                [gen_circ(1, 1, qubit_list = [1], reset_qubit_list = [0, 1, 2], add_delay = False, measure = False), gen_exp_circ('dj', initial_state = 0)],\n",
    "                [gen_circ(2, 1, qubit_list = [1], reset_qubit_list = [0, 1, 2], add_delay = False, measure = False), gen_exp_circ('dj', initial_state = 0)],\n",
    "                [gen_circ(3, 1, qubit_list = [1], reset_qubit_list = [0, 1, 2], add_delay = False, measure = False), gen_exp_circ('dj', initial_state = 0)]],\n",
    "              \n",
    "              [[gen_circ(0, 0, qubit_list = [0, 1], add_delay = False, measure = False), gen_exp_circ('gs', initial_state = 0, bad_state = '00')],\n",
    "                [gen_circ(1, 0, qubit_list = [0, 1], add_delay = False, measure = False), gen_exp_circ('gs', initial_state = 0, bad_state = '00')],\n",
    "                [gen_circ(2, 0, qubit_list = [0, 1], add_delay = False, measure = False), gen_exp_circ('gs', initial_state = 0, bad_state = '00')],\n",
    "                [gen_circ(3, 0, qubit_list = [0, 1], add_delay = False, measure = False), gen_exp_circ('gs', initial_state = 0, bad_state = '00')]],\n",
    "              \n",
    "              [[gen_circ(0, 1, qubit_list = [0, 1], add_delay = False, measure = False), gen_exp_circ('gs', initial_state = 0, bad_state = '00')],\n",
    "                [gen_circ(1, 1, qubit_list = [0, 1], add_delay = False, measure = False), gen_exp_circ('gs', initial_state = 0, bad_state = '00')],\n",
    "                [gen_circ(2, 1, qubit_list = [0, 1], add_delay = False, measure = False), gen_exp_circ('gs', initial_state = 0, bad_state = '00')],\n",
    "                [gen_circ(3, 1, qubit_list = [0, 1], add_delay = False, measure = False), gen_exp_circ('gs', initial_state = 0, bad_state = '00')]],\n",
    "            ]\n",
    "\n",
    "exp_circs = [[transpile(a, backend, optimization_level = 0) for a in b] for b in exp_circs]"
   ]
  },
  {
   "cell_type": "code",
   "execution_count": 23,
   "id": "98a15af9-17eb-4ea7-838a-287448f55f6a",
   "metadata": {},
   "outputs": [],
   "source": [
    "exp_circs = [[[gen_circ(0, 0, qubit_list = [5], reset_qubit_list = [4, 5, 6], add_delay = False, measure = False), gen_exp_circ('dj', initial_state = 0, add_delay_end = True, delay_end = 2000000)],\n",
    "              [gen_circ(1, 0, qubit_list = [5], reset_qubit_list = [4, 5, 6], add_delay = False, measure = False), gen_exp_circ('dj', initial_state = 0, add_delay_end = True, delay_end = 2000000)],\n",
    "              [gen_circ(2, 0, qubit_list = [5], reset_qubit_list = [4, 5, 6], add_delay = False, measure = False), gen_exp_circ('dj', initial_state = 0, add_delay_end = True, delay_end = 2000000)],\n",
    "              [gen_circ(3, 0, qubit_list = [5], reset_qubit_list = [4, 5, 6], add_delay = False, measure = False), gen_exp_circ('dj', initial_state = 0, add_delay_end = True, delay_end = 2000000)]],\n",
    "             \n",
    "             [[gen_circ(0, 1, qubit_list = [5], reset_qubit_list = [4, 5, 6], add_delay = False, measure = False), gen_exp_circ('dj', initial_state = 0, add_delay_end = True, delay_end = 2000000)],\n",
    "              [gen_circ(1, 1, qubit_list = [5], reset_qubit_list = [4, 5, 6], add_delay = False, measure = False), gen_exp_circ('dj', initial_state = 0, add_delay_end = True, delay_end = 2000000)],\n",
    "              [gen_circ(2, 1, qubit_list = [5], reset_qubit_list = [4, 5, 6], add_delay = False, measure = False), gen_exp_circ('dj', initial_state = 0, add_delay_end = True, delay_end = 2000000)],\n",
    "              [gen_circ(3, 1, qubit_list = [5], reset_qubit_list = [4, 5, 6], add_delay = False, measure = False), gen_exp_circ('dj', initial_state = 0, add_delay_end = True, delay_end = 2000000)]],\n",
    "\n",
    "             [[gen_circ(0, 1, qubit_list = [5], add_secure_reset = True, reset_qubit_list = [4, 5, 6], add_delay = False, measure = False), gen_exp_circ('dj', initial_state = 0, add_delay_end = True, delay_end = 2000000)],\n",
    "              [gen_circ(1, 1, qubit_list = [5], add_secure_reset = True, reset_qubit_list = [4, 5, 6], add_delay = False, measure = False), gen_exp_circ('dj', initial_state = 0, add_delay_end = True, delay_end = 2000000)],\n",
    "              [gen_circ(2, 1, qubit_list = [5], add_secure_reset = True, reset_qubit_list = [4, 5, 6], add_delay = False, measure = False), gen_exp_circ('dj', initial_state = 0, add_delay_end = True, delay_end = 2000000)],\n",
    "              [gen_circ(3, 1, qubit_list = [5], add_secure_reset = True, reset_qubit_list = [4, 5, 6], add_delay = False, measure = False), gen_exp_circ('dj', initial_state = 0, add_delay_end = True, delay_end = 2000000)]],\n",
    "             \n",
    "             [[gen_circ(0, 0, qubit_list = [5, 6], add_delay = False, measure = False), gen_exp_circ('gs', initial_state = 0, bad_state = '00', add_delay_end = True, delay_end = 2000000)],\n",
    "              [gen_circ(1, 0, qubit_list = [5, 6], add_delay = False, measure = False), gen_exp_circ('gs', initial_state = 0, bad_state = '00', add_delay_end = True, delay_end = 2000000)],\n",
    "              [gen_circ(2, 0, qubit_list = [5, 6], add_delay = False, measure = False), gen_exp_circ('gs', initial_state = 0, bad_state = '00', add_delay_end = True, delay_end = 2000000)],\n",
    "              [gen_circ(3, 0, qubit_list = [5, 6], add_delay = False, measure = False), gen_exp_circ('gs', initial_state = 0, bad_state = '00', add_delay_end = True, delay_end = 2000000)]],\n",
    "             \n",
    "             [[gen_circ(0, 1, qubit_list = [5, 6], add_delay = False, measure = False), gen_exp_circ('gs', initial_state = 0, bad_state = '00', add_delay_end = True, delay_end = 2000000)],\n",
    "              [gen_circ(1, 1, qubit_list = [5, 6], add_delay = False, measure = False), gen_exp_circ('gs', initial_state = 0, bad_state = '00', add_delay_end = True, delay_end = 2000000)],\n",
    "              [gen_circ(2, 1, qubit_list = [5, 6], add_delay = False, measure = False), gen_exp_circ('gs', initial_state = 0, bad_state = '00', add_delay_end = True, delay_end = 2000000)],\n",
    "              [gen_circ(3, 1, qubit_list = [5, 6], add_delay = False, measure = False), gen_exp_circ('gs', initial_state = 0, bad_state = '00', add_delay_end = True, delay_end = 2000000)]],\n",
    "\n",
    "             [[gen_circ(0, 1, qubit_list = [5, 6], add_secure_reset = True, add_delay = False, measure = False), gen_exp_circ('gs', initial_state = 0, bad_state = '00', add_delay_end = True, delay_end = 2000000)],\n",
    "              [gen_circ(1, 1, qubit_list = [5, 6], add_secure_reset = True, add_delay = False, measure = False), gen_exp_circ('gs', initial_state = 0, bad_state = '00', add_delay_end = True, delay_end = 2000000)],\n",
    "              [gen_circ(2, 1, qubit_list = [5, 6], add_secure_reset = True, add_delay = False, measure = False), gen_exp_circ('gs', initial_state = 0, bad_state = '00', add_delay_end = True, delay_end = 2000000)],\n",
    "              [gen_circ(3, 1, qubit_list = [5, 6], add_secure_reset = True, add_delay = False, measure = False), gen_exp_circ('gs', initial_state = 0, bad_state = '00', add_delay_end = True, delay_end = 2000000)]],\n",
    "             \n",
    "             [[gen_circ(0, 0, qubit_list = [4, 5, 6], add_delay = False, measure = False), exp_qft[1]],\n",
    "              [gen_circ(1, 0, qubit_list = [4, 5, 6], add_delay = False, measure = False), exp_qft[1]],\n",
    "              [gen_circ(2, 0, qubit_list = [4, 5, 6], add_delay = False, measure = False), exp_qft[1]],\n",
    "              [gen_circ(3, 0, qubit_list = [4, 5, 6], add_delay = False, measure = False), exp_qft[1]]],\n",
    "             \n",
    "             [[gen_circ(0, 1, qubit_list = [4, 5, 6], add_delay = False, measure = False), exp_qft[1]],\n",
    "              [gen_circ(1, 1, qubit_list = [4, 5, 6], add_delay = False, measure = False), exp_qft[1]],\n",
    "              [gen_circ(2, 1, qubit_list = [4, 5, 6], add_delay = False, measure = False), exp_qft[1]],\n",
    "              [gen_circ(3, 1, qubit_list = [4, 5, 6], add_delay = False, measure = False), exp_qft[1]]],\n",
    "\n",
    "             [[gen_circ(0, 1, qubit_list = [4, 5, 6], add_secure_reset = True, add_delay = False, measure = False), exp_qft[1]],\n",
    "              [gen_circ(1, 1, qubit_list = [4, 5, 6], add_secure_reset = True, add_delay = False, measure = False), exp_qft[1]],\n",
    "              [gen_circ(2, 1, qubit_list = [4, 5, 6], add_secure_reset = True, add_delay = False, measure = False), exp_qft[1]],\n",
    "              [gen_circ(3, 1, qubit_list = [4, 5, 6], add_secure_reset = True, add_delay = False, measure = False), exp_qft[1]]],\n",
    "            ]\n",
    "\n",
    "# exp_circs = [[transpile(a, backend, optimization_level = 0, initial_layout = []) for a in b] for b in exp_circs]"
   ]
  },
  {
   "cell_type": "code",
   "execution_count": 24,
   "id": "f63bae49-5468-495e-ab22-11b5a0a6c496",
   "metadata": {},
   "outputs": [],
   "source": [
    "shots = 2000"
   ]
  },
  {
   "cell_type": "code",
   "execution_count": null,
   "id": "156ac3c4-4f2f-4a9d-9cfe-d6afb13212dd",
   "metadata": {},
   "outputs": [],
   "source": [
    "# job_list = []\n",
    "# job_id_list = []\n",
    "\n",
    "# for exp_circ in exp_circs[0]:\n",
    "#     job = backend.run([exp_circ[0], transpile(exp_circ[1], backend, optimization_level = 0, initial_layout = [4, 5, 6])], shots=shots)\n",
    "#     job_list.append(job)\n",
    "#     job_id_list.append(job.job_id())\n",
    "\n",
    "# for exp_circ in exp_circs[1]:\n",
    "#     job = backend.run([exp_circ[0], transpile(exp_circ[1], backend, optimization_level = 0, initial_layout = [4, 5, 6])], shots=shots, rep_delay=0, init_qubits = False)\n",
    "#     job_list.append(job)\n",
    "#     job_id_list.append(job.job_id())\n",
    "\n",
    "# for exp_circ in exp_circs[2]:\n",
    "#     job = backend.run([exp_circ[0], transpile(exp_circ[1], backend, optimization_level = 0, initial_layout = [4, 5, 6])], shots=shots, rep_delay=0, init_qubits = False)\n",
    "#     job_list.append(job)\n",
    "#     job_id_list.append(job.job_id())\n",
    "        \n",
    "# for exp_circ in exp_circs[3]:\n",
    "#     job = backend.run([exp_circ[0], transpile(exp_circ[1], backend, optimization_level = 0, initial_layout = [5, 6])], shots=shots)\n",
    "#     job_list.append(job)\n",
    "#     job_id_list.append(job.job_id())\n",
    "\n",
    "# for exp_circ in exp_circs[4]:\n",
    "#     job = backend.run([exp_circ[0], transpile(exp_circ[1], backend, optimization_level = 0, initial_layout = [5, 6])], shots=shots, rep_delay=0, init_qubits = False)\n",
    "#     job_list.append(job)\n",
    "#     job_id_list.append(job.job_id())\n",
    "\n",
    "# for exp_circ in exp_circs[5]:\n",
    "#     job = backend.run([exp_circ[0], transpile(exp_circ[1], backend, optimization_level = 0, initial_layout = [5, 6])], shots=shots, rep_delay=0, init_qubits = False)\n",
    "#     job_list.append(job)\n",
    "#     job_id_list.append(job.job_id())\n",
    "\n",
    "# for exp_circ in exp_circs[6]:\n",
    "#     job = backend.run([exp_circ[0], transpile(exp_circ[1], backend, optimization_level = 0, initial_layout = [4, 5, 6])], shots=shots)\n",
    "#     job_list.append(job)\n",
    "#     job_id_list.append(job.job_id())\n",
    "\n",
    "# for exp_circ in exp_circs[7]:\n",
    "#     job = backend.run([exp_circ[0], transpile(exp_circ[1], backend, optimization_level = 0, initial_layout = [4, 5, 6])], shots=shots, rep_delay=0, init_qubits = False)\n",
    "#     job_list.append(job)\n",
    "#     job_id_list.append(job.job_id())\n",
    "\n",
    "# for exp_circ in exp_circs[8]:\n",
    "#     job = backend.run([exp_circ[0], transpile(exp_circ[1], backend, optimization_level = 0, initial_layout = [4, 5, 6])], shots=shots, rep_delay=0, init_qubits = False)\n",
    "#     job_list.append(job)\n",
    "#     job_id_list.append(job.job_id())\n",
    "        \n",
    "# job_id_list"
   ]
  },
  {
   "cell_type": "code",
   "execution_count": 25,
   "id": "813e358e",
   "metadata": {},
   "outputs": [],
   "source": [
    "# job_id_list = ['63378fdd1ff5699b638b72a6',\n",
    "#  '63378fdfdee3d639ccb90f1b',\n",
    "#  '63378fe183172df483d17d7d',\n",
    "#  '63378fe3b7c9eb28b5c91ec0',\n",
    "#  '63378fe463d504bb6d868c40',\n",
    "#  '63378fe8a146b51a6a1f6e4c',\n",
    "#  '63378fe963d5047230868c41',\n",
    "#  '63378fea83172d336dd17d7e',\n",
    "#  '63378fec1ff5698dff8b72a7',\n",
    "#  '63378feea146b5680d1f6e4d',\n",
    "#  '63378fefdee3d62c1ab90f1c',\n",
    "#  '63378ff183172d9cbbd17d7f',\n",
    "#  '6337900a1ff569353a8b72a8',\n",
    "#  '6337900b1ff56945a58b72a9',\n",
    "#  '6337900d6040891d0f8e11c5',\n",
    "#  '6337900f537ba3e47d13938d',\n",
    "#  '6337901260408937838e11c6',\n",
    "#  '6337901483172d4dcfd17d82',\n",
    "#  '633790151ff5698db38b72aa',\n",
    "#  '63379017604089c94a8e11c7',\n",
    "#  '633790181ff56964388b72ab',\n",
    "#  '6337901a5706bc2ea6465662',\n",
    "#  '6337901cb7c9eb8284c91ec2',\n",
    "#  '6337901f604089a14e8e11c8',\n",
    "#  '63378ff2b7c9eb767ac91ec1',\n",
    "#  '63378ff5dee3d6d968b90f1d',\n",
    "#  '63378ff65706bc2de7465660',\n",
    "#  '63378ff75706bce3c1465661',\n",
    "#  '63378ffa6040893bb58e11c3',\n",
    "#  '63378ffd63d5042399868c42',\n",
    "#  '63378ffe6040890ca68e11c4',\n",
    "#  '63379000dee3d6144cb90f1e',\n",
    "#  '6337900183172d91e8d17d80',\n",
    "#  '63379003dee3d6ed4ab90f1f',\n",
    "#  '63379004dee3d67e09b90f20',\n",
    "#  '6337900883172d56ded17d81']\n",
    "\n",
    "# job_list = [backend.retrieve_job(job_id) for job_id in job_id_list]"
   ]
  },
  {
   "cell_type": "code",
   "execution_count": null,
   "id": "53528636",
   "metadata": {},
   "outputs": [],
   "source": [
    "# save_job(job_list, \"data/quantum_algorithms.pickle\")"
   ]
  },
  {
   "cell_type": "code",
   "execution_count": null,
   "id": "8e1e090b",
   "metadata": {},
   "outputs": [],
   "source": [
    "# job_list = load_job(\"data/quantum_algorithms.pickle\")"
   ]
  },
  {
   "cell_type": "code",
   "execution_count": 26,
   "id": "6a2d281c-de6b-4208-a080-75c39677e772",
   "metadata": {},
   "outputs": [],
   "source": [
    "# data = np.stack([[job.result().get_counts()[1]['11'] for job in job_list[:12]], np.array([job.result().get_counts()[1]['000'] for job in job_list[12:24]]), np.array([job.result().get_counts()[1]['00'] for job in job_list[24:]])])/shots\n",
    "# save_job(data, \"data/quantum_algorithms_data.pickle\")"
   ]
  },
  {
   "cell_type": "code",
   "execution_count": null,
   "metadata": {},
   "outputs": [],
   "source": [
    "data = load_job(\"data/quantum_algorithms_data.pickle\")"
   ]
  },
  {
   "cell_type": "code",
   "execution_count": 27,
   "id": "3fc76d77-8b78-4f28-b40d-62b061002b5a",
   "metadata": {},
   "outputs": [
    {
     "data": {
      "text/plain": [
       "(3, 12)"
      ]
     },
     "execution_count": 27,
     "metadata": {},
     "output_type": "execute_result"
    }
   ],
   "source": [
    "data.shape"
   ]
  },
  {
   "cell_type": "code",
   "execution_count": 30,
   "id": "04b178b0",
   "metadata": {},
   "outputs": [],
   "source": [
    "colors = ['grey', 'green', 'crimson', 'cornflowerblue']"
   ]
  },
  {
   "cell_type": "code",
   "execution_count": 38,
   "id": "35c37fb6-1de6-4f42-97a2-5137540ddfd8",
   "metadata": {},
   "outputs": [
    {
     "data": {
      "image/png": "[encoded data removed]",
      "text/plain": [
       "<Figure size 500x600 with 3 Axes>"
      ]
     },
     "metadata": {},
     "output_type": "display_data"
    }
   ],
   "source": [
    "num_xtick = 3\n",
    "num_bar = 4\n",
    "barWidth = 0.1\n",
    "\n",
    "mpl.style.use('seaborn')\n",
    "\n",
    "fig, axes = plt.subplots(3, 1, figsize = (5, 6), dpi = 100, sharey=True, sharex = True)\n",
    "\n",
    "br = [(np.arange(num_xtick) + barWidth * (i - (num_bar-1) / 2)) for i in range(num_bar)]\n",
    "\n",
    "# fig.supylabel()\n",
    "for circ, name in enumerate(['Deutsch-Jozsa', \"IQFT\", \"Grover's Search\"]):\n",
    "    axes[circ].set_ylabel(name + f\": $P({['11', '000', '00'][circ]}$\" + r\"$\\rangle)$\")\n",
    "    axes[circ].set_ylim([0, 1])\n",
    "    if circ == len(data) - 1:\n",
    "        axes[circ].set_xlabel(\"Inter-shot Mechanism\")\n",
    "        axes[circ].set_xticks(np.arange(num_xtick))\n",
    "        axes[circ].set_xticklabels([\"Default\", \"Reset\", \"CSR\"])\n",
    "    for state in range(4):\n",
    "        axes[circ].bar(br[state], data[circ, state::num_bar], width = barWidth, label = f\"|{state}\" r\"$\\rangle$\", color=colors[state])\n",
    "    axes[circ].set_xlim((br[0][0]-0.5, br[-1][-1] + 0.5))\n",
    "    # axes[circ].legend()\n",
    "    axes[circ].legend(loc='center left', bbox_to_anchor=(1, 0.5))\n",
    "\n",
    "plt.tight_layout()\n",
    "\n",
    "# plt.savefig(\"./figs/circuit.pdf\")\n"
   ]
  },
  {
   "cell_type": "code",
   "execution_count": 91,
   "id": "3f7b1b94",
   "metadata": {},
   "outputs": [
    {
     "data": {
      "text/plain": [
       "array([[[0.014 , 0.0315, 0.0435, 0.911 ],\n",
       "        [0.0095, 0.0395, 0.0465, 0.9045],\n",
       "        [0.0205, 0.062 , 0.0455, 0.872 ],\n",
       "        [0.025 , 0.073 , 0.058 , 0.844 ],\n",
       "        [0.0135, 0.025 , 0.034 , 0.9275],\n",
       "        [0.0135, 0.024 , 0.0425, 0.92  ],\n",
       "        [0.144 , 0.4985, 0.1015, 0.256 ],\n",
       "        [0.1505, 0.3   , 0.178 , 0.3715],\n",
       "        [0.0135, 0.034 , 0.0435, 0.909 ],\n",
       "        [0.014 , 0.0395, 0.039 , 0.9075],\n",
       "        [0.017 , 0.035 , 0.0425, 0.9055],\n",
       "        [0.039 , 0.069 , 0.0575, 0.8345]],\n",
       "\n",
       "       [[0.961 , 0.016 , 0.019 , 0.004 ],\n",
       "        [0.9555, 0.015 , 0.0135, 0.016 ],\n",
       "        [0.836 , 0.026 , 0.0245, 0.1135],\n",
       "        [0.822 , 0.035 , 0.017 , 0.126 ],\n",
       "        [0.947 , 0.021 , 0.023 , 0.009 ],\n",
       "        [0.8805, 0.036 , 0.018 , 0.0655],\n",
       "        [0.018 , 0.0435, 0.031 , 0.9075],\n",
       "        [0.0465, 0.0615, 0.138 , 0.754 ],\n",
       "        [0.9385, 0.022 , 0.0235, 0.016 ],\n",
       "        [0.9015, 0.0265, 0.019 , 0.053 ],\n",
       "        [0.887 , 0.018 , 0.0285, 0.0665],\n",
       "        [0.709 , 0.0445, 0.0425, 0.204 ]]])"
      ]
     },
     "execution_count": 91,
     "metadata": {},
     "output_type": "execute_result"
    }
   ],
   "source": [
    "# dj_prob = np.stack([[job.result().get_counts()[1][result_state] for result_state in ['00', '01', '10', '11']] for job in job_list[:12]]) / shots\n",
    "# gs_prob = np.stack([[job.result().get_counts()[1][result_state] for result_state in ['00', '01', '10', '11']] for job in job_list[24:]]) / shots\n",
    "# prob_data = np.stack((dj_prob, gs_prob))\n",
    "# save_job(prob_data, \"data/quantum_algorithms_prob_data.pickle\")\n",
    "# prob_data"
   ]
  },
  {
   "cell_type": "code",
   "execution_count": null,
   "metadata": {},
   "outputs": [],
   "source": [
    "prob_data = load_job(\"data/quantum_algorithms_prob_data.pickle\")"
   ]
  },
  {
   "cell_type": "code",
   "execution_count": 116,
   "id": "8d0cd82f",
   "metadata": {},
   "outputs": [
    {
     "name": "stdout",
     "output_type": "stream",
     "text": [
      "Circuit\t\tMechanism\t\tState\t\t00\t\t01\t\t10\t\t11\n",
      "\t\t\t\t\t$\\ket{0}$\t\t0.01\t\t0.03\t\t0.04\t\t0.91\n",
      "\t\t\t\t\t$\\ket{1}$\t\t0.01\t\t0.04\t\t0.05\t\t0.90\n",
      "\t\t\t\t\t$\\ket{2}$\t\t0.02\t\t0.06\t\t0.05\t\t0.87\n",
      "\t\t\t\t\t$\\ket{3}$\t\t0.03\t\t0.07\t\t0.06\t\t0.84\n",
      "\t\t\t\t\t$\\ket{0}$\t\t0.01\t\t0.03\t\t0.03\t\t0.93\n",
      "\t\t\t\t\t$\\ket{1}$\t\t0.01\t\t0.02\t\t0.04\t\t0.92\n",
      "\t\t\t\t\t$\\ket{2}$\t\t0.14\t\t0.50\t\t0.10\t\t0.26\n",
      "\t\t\t\t\t$\\ket{3}$\t\t0.15\t\t0.30\t\t0.18\t\t0.37\n",
      "\t\t\t\t\t$\\ket{0}$\t\t0.01\t\t0.03\t\t0.04\t\t0.91\n",
      "\t\t\t\t\t$\\ket{1}$\t\t0.01\t\t0.04\t\t0.04\t\t0.91\n",
      "\t\t\t\t\t$\\ket{2}$\t\t0.02\t\t0.04\t\t0.04\t\t0.91\n",
      "\t\t\t\t\t$\\ket{3}$\t\t0.04\t\t0.07\t\t0.06\t\t0.83\n",
      "\t\t\t\t\t$\\ket{0}$\t\t0.96\t\t0.02\t\t0.02\t\t0.00\n",
      "\t\t\t\t\t$\\ket{1}$\t\t0.96\t\t0.01\t\t0.01\t\t0.02\n",
      "\t\t\t\t\t$\\ket{2}$\t\t0.84\t\t0.03\t\t0.02\t\t0.11\n",
      "\t\t\t\t\t$\\ket{3}$\t\t0.82\t\t0.04\t\t0.02\t\t0.13\n",
      "\t\t\t\t\t$\\ket{0}$\t\t0.95\t\t0.02\t\t0.02\t\t0.01\n",
      "\t\t\t\t\t$\\ket{1}$\t\t0.88\t\t0.04\t\t0.02\t\t0.07\n",
      "\t\t\t\t\t$\\ket{2}$\t\t0.02\t\t0.04\t\t0.03\t\t0.91\n",
      "\t\t\t\t\t$\\ket{3}$\t\t0.05\t\t0.06\t\t0.14\t\t0.75\n",
      "\t\t\t\t\t$\\ket{0}$\t\t0.94\t\t0.02\t\t0.02\t\t0.02\n",
      "\t\t\t\t\t$\\ket{1}$\t\t0.90\t\t0.03\t\t0.02\t\t0.05\n",
      "\t\t\t\t\t$\\ket{2}$\t\t0.89\t\t0.02\t\t0.03\t\t0.07\n",
      "\t\t\t\t\t$\\ket{3}$\t\t0.71\t\t0.04\t\t0.04\t\t0.20\n"
     ]
    }
   ],
   "source": [
    "print(\"Circuit\\t\\tMechanism\\t\\tState\\t\\t\" + \"\\t\\t\".join([state for state in ['00', '01', '10', '11']]))\n",
    "for circ_i, circ in enumerate(['Deutsch-Jozsa', \"Grover's Search\"]):\n",
    "    # print(\"\\t\\t\\t\", end = \"\")\n",
    "    for mechanism_i, mechanism in enumerate(['Default', 'Reset', 'CSR']):\n",
    "        # print(mechanism, end = \"\\t\\t\")\n",
    "        for state in range(4):\n",
    "            print(\"\\t\\t\\t\\t\\t$\\\\ket{\"f\"{state}\"\"}$\\t\\t\" + \"\\t\\t\".join([str(format(i, \".2f\")) for i in prob_data[circ_i, mechanism_i*4 + state, :]]))"
   ]
  },
  {
   "cell_type": "code",
   "execution_count": null,
   "id": "94246128",
   "metadata": {},
   "outputs": [],
   "source": []
  }
 ],
 "metadata": {
  "kernelspec": {
   "display_name": "Python 3.9.12 ('qiskit')",
   "language": "python",
   "name": "python3"
  },
  "language_info": {
   "codemirror_mode": {
    "name": "ipython",
    "version": 3
   },
   "file_extension": ".py",
   "mimetype": "text/x-python",
   "name": "python",
   "nbconvert_exporter": "python",
   "pygments_lexer": "ipython3",
   "version": "3.9.12"
  },
  "vscode": {
   "interpreter": {
    "hash": "0254cfdbd1ec5eeb853fcb587bdc4d782f6ce52d6bf70367b9ef200c67b41767"
   }
  },
  "widgets": {
   "application/vnd.jupyter.widget-state+json": {
    "state": {
     "03cf011ec0264cbe88689c2fcc85e51f": {
      "model_module": "@jupyter-widgets/controls",
      "model_module_version": "1.5.0",
      "model_name": "DescriptionStyleModel",
      "state": {
       "description_width": ""
      }
     },
     "0d54189ae7a8495f853e93d716449c8d": {
      "model_module": "@jupyter-widgets/controls",
      "model_module_version": "1.5.0",
      "model_name": "HTMLModel",
      "state": {
       "layout": "IPY_MODEL_ea4ae9a3e2e442479207160c77549a28",
       "style": "IPY_MODEL_a50b151a8ea74976af7e2f223300f6ef",
       "value": "<p style='font-family: IBM Plex Sans, Arial, Helvetica, sans-serif; font-size: 20px; font-weight: medium;'>Circuit Properties</p>"
      }
     },
     "137bf88ca3b54e0786fc8942009b75d2": {
      "model_module": "@jupyter-widgets/controls",
      "model_module_version": "1.5.0",
      "model_name": "GridBoxModel",
      "state": {
       "children": [
        "IPY_MODEL_e0156850f53f4bc58f677af7370523ff"
       ],
       "layout": "IPY_MODEL_f1495fedb1a349ca9057af7dd478223a"
      }
     },
     "14b0a6d656ee49a6962c81aaba70ffbe": {
      "model_module": "@jupyter-widgets/base",
      "model_module_version": "1.2.0",
      "model_name": "LayoutModel",
      "state": {
       "width": "70px"
      }
     },
     "1e560b019f5c4cd1a665f2bea583aedc": {
      "model_module": "@jupyter-widgets/controls",
      "model_module_version": "1.5.0",
      "model_name": "HTMLModel",
      "state": {
       "layout": "IPY_MODEL_8468344c7fc841629e0c9cb29651a978",
       "style": "IPY_MODEL_03cf011ec0264cbe88689c2fcc85e51f",
       "value": "<h5>Status</h5>"
      }
     },
     "335ed643847c4e429ec8f0ae9ba19678": {
      "model_module": "@jupyter-widgets/controls",
      "model_module_version": "1.5.0",
      "model_name": "HTMLModel",
      "state": {
       "layout": "IPY_MODEL_14b0a6d656ee49a6962c81aaba70ffbe",
       "style": "IPY_MODEL_597b7b15067448278592eef41d40dd32",
       "value": "<h5>Queue</h5>"
      }
     },
     "420dba93491d46d4ad87dcad9a8abe1e": {
      "model_module": "@jupyter-widgets/controls",
      "model_module_version": "1.5.0",
      "model_name": "ButtonStyleModel",
      "state": {}
     },
     "597b7b15067448278592eef41d40dd32": {
      "model_module": "@jupyter-widgets/controls",
      "model_module_version": "1.5.0",
      "model_name": "DescriptionStyleModel",
      "state": {
       "description_width": ""
      }
     },
     "5cdd5127a11b429c9c7bae7b6253a162": {
      "model_module": "@jupyter-widgets/base",
      "model_module_version": "1.2.0",
      "model_name": "LayoutModel",
      "state": {
       "width": "145px"
      }
     },
     "7976fc4af9944b909b4aca8a735a1d32": {
      "model_module": "@jupyter-widgets/controls",
      "model_module_version": "1.5.0",
      "model_name": "HTMLModel",
      "state": {
       "layout": "IPY_MODEL_e9795f5750534f238003048c0b805866",
       "style": "IPY_MODEL_9c6858d49d7949848965bb05ef440f76",
       "value": "<h5>Message</h5>"
      }
     },
     "7be1516870624fd0b3dff8b094a457e4": {
      "model_module": "@jupyter-widgets/base",
      "model_module_version": "1.2.0",
      "model_name": "LayoutModel",
      "state": {
       "margin": "0px 0px 0px 37px",
       "width": "600px"
      }
     },
     "7ecd08fd741e4192b06fa77d2e5eba52": {
      "model_module": "@jupyter-widgets/controls",
      "model_module_version": "1.5.0",
      "model_name": "HTMLModel",
      "state": {
       "layout": "IPY_MODEL_5cdd5127a11b429c9c7bae7b6253a162",
       "style": "IPY_MODEL_f70ca54f5ff74471bca8bf3e3a7aece5",
       "value": "<h5>Backend</h5>"
      }
     },
     "8468344c7fc841629e0c9cb29651a978": {
      "model_module": "@jupyter-widgets/base",
      "model_module_version": "1.2.0",
      "model_name": "LayoutModel",
      "state": {
       "width": "95px"
      }
     },
     "8ab6d2d3f5cc4885ab4c38f871d8dc1a": {
      "model_module": "@jupyter-widgets/base",
      "model_module_version": "1.2.0",
      "model_name": "LayoutModel",
      "state": {
       "grid_area": "right",
       "padding": "0px 0px 0px 0px",
       "width": "70px"
      }
     },
     "8cd9018d74c4495d8fbebb184bac865f": {
      "model_module": "@jupyter-widgets/base",
      "model_module_version": "1.2.0",
      "model_name": "LayoutModel",
      "state": {
       "width": "190px"
      }
     },
     "9c6858d49d7949848965bb05ef440f76": {
      "model_module": "@jupyter-widgets/controls",
      "model_module_version": "1.5.0",
      "model_name": "DescriptionStyleModel",
      "state": {
       "description_width": ""
      }
     },
     "a50b151a8ea74976af7e2f223300f6ef": {
      "model_module": "@jupyter-widgets/controls",
      "model_module_version": "1.5.0",
      "model_name": "DescriptionStyleModel",
      "state": {
       "description_width": ""
      }
     },
     "a89db486849640a4a27621243aa84256": {
      "model_module": "@jupyter-widgets/controls",
      "model_module_version": "1.5.0",
      "model_name": "DescriptionStyleModel",
      "state": {
       "description_width": ""
      }
     },
     "e0156850f53f4bc58f677af7370523ff": {
      "model_module": "@jupyter-widgets/controls",
      "model_module_version": "1.5.0",
      "model_name": "ButtonModel",
      "state": {
       "button_style": "primary",
       "description": "Clear",
       "layout": "IPY_MODEL_8ab6d2d3f5cc4885ab4c38f871d8dc1a",
       "style": "IPY_MODEL_420dba93491d46d4ad87dcad9a8abe1e"
      }
     },
     "e88da9baaba84827bb92de52fde3d86a": {
      "model_module": "@jupyter-widgets/controls",
      "model_module_version": "1.5.0",
      "model_name": "HBoxModel",
      "state": {
       "children": [
        "IPY_MODEL_f0aa30c811dd492898398460c43c6c11",
        "IPY_MODEL_7ecd08fd741e4192b06fa77d2e5eba52",
        "IPY_MODEL_1e560b019f5c4cd1a665f2bea583aedc",
        "IPY_MODEL_335ed643847c4e429ec8f0ae9ba19678",
        "IPY_MODEL_7976fc4af9944b909b4aca8a735a1d32"
       ],
       "layout": "IPY_MODEL_7be1516870624fd0b3dff8b094a457e4"
      }
     },
     "e9795f5750534f238003048c0b805866": {
      "model_module": "@jupyter-widgets/base",
      "model_module_version": "1.2.0",
      "model_name": "LayoutModel",
      "state": {}
     },
     "ea4ae9a3e2e442479207160c77549a28": {
      "model_module": "@jupyter-widgets/base",
      "model_module_version": "1.2.0",
      "model_name": "LayoutModel",
      "state": {
       "margin": "0px 0px 10px 0px"
      }
     },
     "f0aa30c811dd492898398460c43c6c11": {
      "model_module": "@jupyter-widgets/controls",
      "model_module_version": "1.5.0",
      "model_name": "HTMLModel",
      "state": {
       "layout": "IPY_MODEL_8cd9018d74c4495d8fbebb184bac865f",
       "style": "IPY_MODEL_a89db486849640a4a27621243aa84256",
       "value": "<h5>Job ID</h5>"
      }
     },
     "f1495fedb1a349ca9057af7dd478223a": {
      "model_module": "@jupyter-widgets/base",
      "model_module_version": "1.2.0",
      "model_name": "LayoutModel",
      "state": {
       "grid_template_areas": "\n                                       \". . . . right \"\n                                        ",
       "grid_template_columns": "20% 20% 20% 20% 20%",
       "width": "100%"
      }
     },
     "f70ca54f5ff74471bca8bf3e3a7aece5": {
      "model_module": "@jupyter-widgets/controls",
      "model_module_version": "1.5.0",
      "model_name": "DescriptionStyleModel",
      "state": {
       "description_width": ""
      }
     }
    },
    "version_major": 2,
    "version_minor": 0
   }
  }
 },
 "nbformat": 4,
 "nbformat_minor": 5
}
