{
 "cells": [
  {
   "cell_type": "code",
   "execution_count": 1,
   "id": "354fa7fe-f140-4bfd-8a07-d44f23a08fdf",
   "metadata": {},
   "outputs": [],
   "source": [
    "import warnings\n",
    "warnings.filterwarnings('ignore')\n",
    "import json\n",
    "\n",
    "from qiskit.tools.jupyter import *\n",
    "from qiskit import IBMQ\n",
    "from qiskit import pulse                  # This is where we access all of our Pulse features!\n",
    "from qiskit.circuit import Parameter      # This is Parameter Class for variable parameters.\n",
    "from qiskit.circuit import QuantumCircuit, Gate\n",
    "from qiskit import transpile, schedule, assemble\n",
    "from qiskit.tools.monitor import job_monitor\n",
    "\n",
    "import numpy as np\n",
    "import matplotlib.pyplot as plt\n",
    "import matplotlib as mpl\n",
    "\n",
    "from scipy.optimize import curve_fit"
   ]
  },
  {
   "cell_type": "code",
   "execution_count": 2,
   "id": "88d31db2-3460-4e73-b20e-92350521fb46",
   "metadata": {},
   "outputs": [],
   "source": [
    "import sys, os\n",
    "sys.path.insert(0, '../..')\n",
    "from utils.circuit_utils import get_closest_multiple_of, get_closest_multiple_of_16\n",
    "from utils.job_utils import get_job_data, save_job, load_job\n",
    "from utils.result_utils import baseline_remove, fit_function, single_qubit_count\n",
    "from utils.higher_energy_states.pulse_gate import Sched\n",
    "from utils.higher_energy_states.state_prep import gen_circ"
   ]
  },
  {
   "cell_type": "code",
   "execution_count": 3,
   "id": "3bcd606e",
   "metadata": {},
   "outputs": [],
   "source": [
    "with open(r\"../provider.json\", \"r\") as f:\n",
    "    credential = json.load(f)\n",
    "\n",
    "IBMQ.load_account()\n",
    "provider = IBMQ.get_provider(hub = credential[\"hub\"], group = credential[\"group\"], project = credential[\"project\"])\n",
    "backend = provider.get_backend(\"ibm_lagos\")"
   ]
  },
  {
   "cell_type": "code",
   "execution_count": null,
   "id": "bd65e2c5-0c26-4de3-ae45-728fbd24a8ef",
   "metadata": {},
   "outputs": [],
   "source": [
    "sched = Sched(backend)\n",
    "sched.load_gate_data(os.path.join(\"..\", \"data\", f\"{backend.configuration().backend_name}_gate_data.json\"))\n",
    "sched.create_scheds()"
   ]
  },
  {
   "cell_type": "code",
   "execution_count": 6,
   "id": "97e2f4a3-0236-45f8-8992-7b3f0043f4e3",
   "metadata": {},
   "outputs": [
    {
     "data": {
      "text/plain": [
       "['id', 'rz', 'sx', 'x', 'cx', 'reset']"
      ]
     },
     "execution_count": 6,
     "metadata": {},
     "output_type": "execute_result"
    }
   ],
   "source": [
    "num_qubits = backend.configuration().n_qubits\n",
    "acquire_alignment = backend.configuration().timing_constraints['acquire_alignment']\n",
    "granularity = backend.configuration().timing_constraints['granularity']\n",
    "pulse_alignment = backend.configuration().timing_constraints['pulse_alignment']\n",
    "dt = backend.configuration().dt\n",
    "basis_gates = backend.configuration().basis_gates\n",
    "basis_gates"
   ]
  },
  {
   "cell_type": "markdown",
   "id": "e90b7e7d-c70c-40d7-9d40-16b190885658",
   "metadata": {},
   "source": [
    "# Helper Fcuntions"
   ]
  },
  {
   "cell_type": "code",
   "execution_count": 8,
   "id": "9c14aa7f-468f-4502-b9bd-0d18ca7e9e25",
   "metadata": {},
   "outputs": [],
   "source": [
    "def gen_circ(state, basis_gate, sched, cx_pairs = None):\n",
    "    num_qubits = sched.backend.configuration().num_qubits\n",
    "\n",
    "    qubit_list = list(range(num_qubits))\n",
    "    \n",
    "    circ = QuantumCircuit(num_qubits)\n",
    "    if basis_gate != 'cx':\n",
    "        if state == -1:\n",
    "            pass\n",
    "        elif state == 0:\n",
    "            pass\n",
    "            # if add_delay:\n",
    "            #     circ.delay(x_duration + x12_duration + x23_duration, qubit_list)\n",
    "        elif state == 1:\n",
    "            # if add_delay:\n",
    "            #     circ.delay(x12_duration + x23_duration, qubit_list)\n",
    "            circ.x(qubit_list)\n",
    "        elif state == 2:\n",
    "            # if add_delay:\n",
    "            #     circ.delay(x23_duration, qubit_list)\n",
    "\n",
    "            circ.x(qubit_list)\n",
    "\n",
    "            if not sched:\n",
    "                raise(\"Please specify Sched class!\")\n",
    "            x12_gate = Gate(\"x12_gate\", 1, [])\n",
    "            for i, qubit in enumerate(qubit_list):\n",
    "                circ.append(x12_gate, [qubit])\n",
    "                circ.add_calibration(x12_gate, (qubit, ), sched.get_sched(label = 'X12', qubit = qubit))\n",
    "        elif state == 3:\n",
    "            circ.x(qubit_list)\n",
    "\n",
    "            if not sched:\n",
    "                raise(\"Please specify Sched class!\")\n",
    "\n",
    "            x12_gate = Gate(\"x12_gate\", 1, [])\n",
    "            x23_gate = Gate(\"x23_gate\", 1, [])\n",
    "            for i, qubit in enumerate(qubit_list):\n",
    "                circ.append(x12_gate, [qubit])\n",
    "                circ.add_calibration(x12_gate, (qubit, ), sched.get_sched(label = 'X12', qubit = qubit))\n",
    "                circ.append(x23_gate, [qubit])\n",
    "                circ.add_calibration(x23_gate, (qubit, ), sched.get_sched(label = 'X23', qubit = qubit))\n",
    "    \n",
    "        circ.barrier()\n",
    "        if basis_gate == None:\n",
    "            pass\n",
    "        elif basis_gate == 'rz':\n",
    "            circ.rz(np.pi, qubit_list)\n",
    "        elif basis_gate == 'sx':\n",
    "            circ.sx(qubit_list)\n",
    "        elif basis_gate == 'x':\n",
    "            circ.x(qubit_list)\n",
    "        elif basis_gate == 'reset':\n",
    "            circ.reset(qubit_list)\n",
    "            \n",
    "            \n",
    "    elif basis_gate == 'cx':\n",
    "        for cx_pair in cx_pairs:\n",
    "            circ.x(cx_pair[0])\n",
    "            if state == 0:\n",
    "                pass\n",
    "            elif state == 1:\n",
    "                circ.x(cx_pair[1])\n",
    "            elif state == 2:\n",
    "                circ.x(cx_pair[1])\n",
    "                x12_gate = Gate(\"x12_gate\", 1, [])\n",
    "                circ.append(x12_gate, [cx_pair[1]])\n",
    "                circ.add_calibration(x12_gate, (cx_pair[1], ), sched.get_sched(label = 'X12', qubit = cx_pair[1]))\n",
    "            elif state == 3:\n",
    "                circ.x(cx_pair[1])\n",
    "                x12_gate = Gate(\"x12_gate\", 1, [])\n",
    "                x23_gate = Gate(\"x23_gate\", 1, [])\n",
    "                circ.append(x12_gate, [cx_pair[1]])\n",
    "                circ.add_calibration(x12_gate, (cx_pair[1], ), sched.get_sched(label = 'X12', qubit = cx_pair[1]))\n",
    "                circ.append(x23_gate, [cx_pair[1]])\n",
    "                circ.add_calibration(x23_gate, (cx_pair[1], ), sched.get_sched(label = 'X23', qubit = cx_pair[1]))\n",
    "        circ.barrier()\n",
    "        for cx_pair in cx_pairs:\n",
    "            circ.cx(cx_pair[0], cx_pair[1])\n",
    "            \n",
    "    circ.measure_all()\n",
    "    \n",
    "    return circ"
   ]
  },
  {
   "cell_type": "markdown",
   "id": "cbf75c06-e3e5-41ee-b8de-3a117e26a4e9",
   "metadata": {},
   "source": [
    "# Experiment for Different Basis Gates\n",
    "\n",
    "``exp_circs`` containing different states before the reset gate, different numbers of reset gates, "
   ]
  },
  {
   "cell_type": "markdown",
   "id": "2fbd08f8-26f0-4cf9-b780-c27af3124cc3",
   "metadata": {},
   "source": [
    "## Experiment"
   ]
  },
  {
   "cell_type": "markdown",
   "id": "6402dafb-e865-41cb-b142-2e83872ec884",
   "metadata": {},
   "source": [
    "### $P(|1\\rangle)$"
   ]
  },
  {
   "cell_type": "code",
   "execution_count": 9,
   "id": "17d1bbb1-e982-4f8a-947f-6fa3dff2c399",
   "metadata": {},
   "outputs": [],
   "source": [
    "shots = 10000"
   ]
  },
  {
   "cell_type": "code",
   "execution_count": 10,
   "id": "51dd1ca5-244a-428a-aa07-502aeddc7a9b",
   "metadata": {},
   "outputs": [],
   "source": [
    "cx_pairs = [[1, 0],\n",
    "            [0, 1],\n",
    "            [1, 2],\n",
    "            [1, 3],\n",
    "            [5, 4],\n",
    "            [4, 5],\n",
    "            [5, 6]]\n",
    "\n",
    "exp_circs = []\n",
    "\n",
    "for state in [1, 2, 3]:\n",
    "    exp_circs_state = []\n",
    "    for basis_gate in [None, 'rz', 'sx', 'x', 'reset', 'cx']:\n",
    "        if basis_gate != 'cx':\n",
    "            exp_circs_state.append(gen_circ(state, basis_gate, sched))\n",
    "        else:\n",
    "            for cx_pair in cx_pairs:\n",
    "                exp_circs_state.append(gen_circ(state, basis_gate, sched, [cx_pair]))\n",
    "    exp_circs.append(exp_circs_state)"
   ]
  },
  {
   "cell_type": "code",
   "execution_count": 11,
   "id": "d7fb641e",
   "metadata": {},
   "outputs": [
    {
     "data": {
      "image/png": "[encoded data removed]",
      "text/plain": [
       "<Figure size 1140.28x505.68 with 1 Axes>"
      ]
     },
     "execution_count": 11,
     "metadata": {},
     "output_type": "execute_result"
    }
   ],
   "source": [
    "exp_circs[2][6].draw()"
   ]
  },
  {
   "cell_type": "code",
   "execution_count": 12,
   "id": "46427269-2e85-44e6-b0c3-6be857a79690",
   "metadata": {},
   "outputs": [
    {
     "data": {
      "text/plain": [
       "['63384ed683172d7c5bd180a9',\n",
       " '63384ed85706bc8fb3465993',\n",
       " '63384edadee3d612d4b9122e']"
      ]
     },
     "execution_count": 12,
     "metadata": {},
     "output_type": "execute_result"
    }
   ],
   "source": [
    "# job_list = []\n",
    "# job_id_list = []\n",
    "# for exp_circ in exp_circs:\n",
    "#     job = backend.run(exp_circ, shots=shots, rep_delay=500e-6)\n",
    "#     job_list.append(job)\n",
    "#     job_id_list.append(job.job_id())\n",
    "# job_id_list"
   ]
  },
  {
   "cell_type": "code",
   "execution_count": 11,
   "id": "02d5ef32-290c-4f1d-944f-f3a29f60b28b",
   "metadata": {},
   "outputs": [],
   "source": [
    "# job_id_list = ['63384ed683172d7c5bd180a9',\n",
    "#  '63384ed85706bc8fb3465993',\n",
    "#  '63384edadee3d612d4b9122e']\n",
    "# job_list = [backend.retrieve_job(job_id) for job_id in job_id_list]"
   ]
  },
  {
   "cell_type": "code",
   "execution_count": null,
   "id": "651ca812",
   "metadata": {},
   "outputs": [],
   "source": [
    "# save_job(job_list, \"data/basis_gate_tomography.pickle\")"
   ]
  },
  {
   "cell_type": "code",
   "execution_count": null,
   "id": "fcd7c1c4",
   "metadata": {},
   "outputs": [],
   "source": [
    "# job_list = load_job(\"data/basis_gate_tomography.pickle\")"
   ]
  },
  {
   "cell_type": "code",
   "execution_count": 12,
   "id": "7afdff81-96ce-4a8b-a604-b20afe904f1c",
   "metadata": {},
   "outputs": [],
   "source": [
    "# data = np.array([[single_qubit_count(job.result().get_counts(), qubit) for qubit in range(num_qubits)] for job in job_list])/shots\n",
    "# save_job(data, \"data/basis_gate_tomography_data.pickle\")"
   ]
  },
  {
   "cell_type": "code",
   "execution_count": null,
   "metadata": {},
   "outputs": [],
   "source": [
    "data = load_job(\"data/basis_gate_tomography_data.pickle\")"
   ]
  },
  {
   "cell_type": "code",
   "execution_count": 13,
   "id": "3230c277-8e04-4b78-98cd-6e9530c926cb",
   "metadata": {},
   "outputs": [
    {
     "data": {
      "text/plain": [
       "(3, 7, 12, 2)"
      ]
     },
     "execution_count": 13,
     "metadata": {},
     "output_type": "execute_result"
    }
   ],
   "source": [
    "data.shape"
   ]
  },
  {
   "cell_type": "code",
   "execution_count": 17,
   "id": "8348b02b-dbf3-42ba-ba20-8d7e694dde16",
   "metadata": {},
   "outputs": [
    {
     "name": "stdout",
     "output_type": "stream",
     "text": [
      "|1>\n",
      "Qubit\t\t\t0\t\t\t1\t\t\t2\t\t\t3\t\t\t4\t\t\t5\t\t\t6\t\t\tAverage\n",
      "No gate\t\t0.9924\t\t0.9903\t\t0.9932\t\t0.9899\t\t0.9874\t\t0.986\t\t0.9899\t\t0.9898714285714286\n",
      "RZ\t\t\t0.0012\t\t-0.0018\t\t-0.0028\t\t-0.0012\t\t-0.0008\t\t0.0005\t\t-0.0007\t\t-0.0008\n",
      "SX\t\t\t-0.4907\t\t-0.4839\t\t-0.497\t\t-0.4706\t\t-0.4777\t\t-0.4743\t\t-0.5025\t\t-0.4852\n",
      "X\t\t\t-0.9798\t\t-0.9791\t\t-0.9884\t\t-0.9503\t\t-0.9738\t\t-0.9678\t\t-0.9824\t\t-0.9745\n",
      "Reset\t\t\t-0.9717\t\t-0.9686\t\t-0.9712\t\t-0.9309\t\t-0.9404\t\t-0.9633\t\t-0.9772\t\t-0.9605\n",
      "CNOT\t\t-0.9678\t\t-0.9671\t\t-0.9761\t\t-0.9434\t\t-0.9522\t\t-0.9516\t\t-0.9703\t\t-0.9612\n",
      "\n",
      "\n",
      "|2>\n",
      "Qubit\t\t\t0\t\t\t1\t\t\t2\t\t\t3\t\t\t4\t\t\t5\t\t\t6\t\t\tAverage\n",
      "No gate\t\t0.9617\t\t0.99\t\t0.9821\t\t0.9311\t\t0.9758\t\t0.9663\t\t0.9816\t\t0.9698000000000001\n",
      "RZ\t\t\t0.0003\t\t0.0011\t\t-0.001\t\t0.0027\t\t0.0036\t\t-0.0049\t\t0.0009\t\t0.0004\n",
      "SX\t\t\t-0.0071\t\t-0.0005\t\t-0.0041\t\t-0.0026\t\t-0.0019\t\t-0.0096\t\t-0.0053\t\t-0.0044\n",
      "X\t\t\t-0.0188\t\t-0.0004\t\t-0.0122\t\t-0.0113\t\t-0.0099\t\t-0.0221\t\t-0.0124\t\t-0.0124\n",
      "Reset\t\t\t-0.0539\t\t-0.0333\t\t-0.1143\t\t-0.0618\t\t-0.0432\t\t-0.1351\t\t-0.0582\t\t-0.0714\n",
      "CNOT\t\t-0.022\t\t-0.0053\t\t-0.0298\t\t-0.02\t\t-0.0022\t\t-0.0604\t\t-0.0053\t\t-0.0207\n",
      "\n",
      "\n",
      "|3>\n",
      "Qubit\t\t\t0\t\t\t1\t\t\t2\t\t\t3\t\t\t4\t\t\t5\t\t\t6\t\t\tAverage\n",
      "No gate\t\t0.8693\t\t0.7625\t\t0.8596\t\t0.7877\t\t0.9118\t\t0.9602\t\t0.9628\t\t0.8734142857142857\n",
      "RZ\t\t\t0.0034\t\t0.0057\t\t0.0027\t\t-0.0063\t\t-0.0121\t\t-0.0012\t\t-0.0003\t\t-0.0012\n",
      "SX\t\t\t-0.0057\t\t-0.0044\t\t-0.0012\t\t-0.0089\t\t-0.0166\t\t-0.007\t\t-0.001\t\t-0.0064\n",
      "X\t\t\t-0.0064\t\t-0.0026\t\t-0.0064\t\t-0.0198\t\t-0.0145\t\t-0.0177\t\t-0.0091\t\t-0.0109\n",
      "Reset\t\t\t-0.0236\t\t0.0149\t\t-0.0319\t\t-0.019\t\t-0.0246\t\t-0.0366\t\t-0.017\t\t-0.0197\n",
      "CNOT\t\t-0.0215\t\t0.0581\t\t-0.035\t\t-0.0303\t\t-0.0189\t\t-0.0183\t\t0.002\t\t-0.0091\n",
      "\n",
      "\n"
     ]
    }
   ],
   "source": [
    "for state in range(3):\n",
    "    print(f\"|{state+1}>\")\n",
    "    print(\"Qubit\\t\\t\\t\" + \"\\t\\t\\t\".join([str(i) for i in range(num_qubits)]) + \"\\t\\t\\tAverage\")\n",
    "    # for qubit in range(num_qubit):\n",
    "    print(\"No gate\\t\\t\" + \"\\t\\t\".join([str(i) for i in np.append(data[state, :, 0, 1], [np.mean(data[state, :, 0, 1])])]))\n",
    "    print(\"RZ\\t\\t\\t\" + \"\\t\\t\".join([str(round(i, 4)) for i in np.append(data[state, :, 1, 1] - data[state, :, 0, 1], np.mean(data[state, :, 1, 1] - data[state, :, 0, 1]))]))\n",
    "    print(\"SX\\t\\t\\t\" + \"\\t\\t\".join([str(round(i, 4)) for i in np.append(data[state, :, 2, 1] - data[state, :, 0, 1], np.mean(data[state, :, 2, 1] - data[state, :, 0, 1]))]))\n",
    "    print(\"X\\t\\t\\t\" + \"\\t\\t\".join([str(round(i, 4)) for i in np.append(data[state, :, 3, 1] - data[state, :, 0, 1], np.mean(data[state, :, 3, 1] - data[state, :, 0, 1]))]))\n",
    "    print(\"Reset\\t\\t\\t\" + \"\\t\\t\".join([str(round(i, 4)) for i in np.append(data[state, :, 4, 1] - data[state, :, 0, 1], np.mean(data[state, :, 4, 1] - data[state, :, 0, 1]))]))\n",
    "    print(\"CNOT\\t\\t\" + \"\\t\\t\".join([str(round(i, 4)) for i in np.append([data[state, qubit, 5+qubit, 1] - data[state, qubit, 0, 1] for qubit in range(num_qubits)], np.mean([data[state, qubit, 5+qubit, 1] - data[state, qubit, 0, 1] for qubit in range(num_qubits)]))]))\n",
    "    print()\n",
    "    print()"
   ]
  },
  {
   "cell_type": "code",
   "execution_count": null,
   "id": "2093ec84-6a9c-4a9b-9f32-cfbb74da9deb",
   "metadata": {},
   "outputs": [],
   "source": []
  }
 ],
 "metadata": {
  "kernelspec": {
   "display_name": "Python 3.9.12 ('qiskit')",
   "language": "python",
   "name": "python3"
  },
  "language_info": {
   "codemirror_mode": {
    "name": "ipython",
    "version": 3
   },
   "file_extension": ".py",
   "mimetype": "text/x-python",
   "name": "python",
   "nbconvert_exporter": "python",
   "pygments_lexer": "ipython3",
   "version": "3.9.12"
  },
  "vscode": {
   "interpreter": {
    "hash": "0254cfdbd1ec5eeb853fcb587bdc4d782f6ce52d6bf70367b9ef200c67b41767"
   }
  },
  "widgets": {
   "application/vnd.jupyter.widget-state+json": {
    "state": {},
    "version_major": 2,
    "version_minor": 0
   }
  }
 },
 "nbformat": 4,
 "nbformat_minor": 5
}
