{
 "cells": [
  {
   "cell_type": "code",
   "execution_count": 1,
   "id": "354fa7fe-f140-4bfd-8a07-d44f23a08fdf",
   "metadata": {},
   "outputs": [],
   "source": [
    "import warnings\n",
    "warnings.filterwarnings('ignore')\n",
    "import json\n",
    "\n",
    "from qiskit.tools.jupyter import *\n",
    "from qiskit import IBMQ\n",
    "from qiskit import pulse                  # This is where we access all of our Pulse features!\n",
    "from qiskit.circuit import Parameter      # This is Parameter Class for variable parameters.\n",
    "from qiskit.circuit import QuantumCircuit, Gate\n",
    "from qiskit import transpile, schedule, assemble\n",
    "from qiskit.tools.monitor import job_monitor\n",
    "\n",
    "import numpy as np\n",
    "import matplotlib.pyplot as plt\n",
    "import matplotlib as mpl\n",
    "\n",
    "from scipy.optimize import curve_fit"
   ]
  },
  {
   "cell_type": "code",
   "execution_count": 2,
   "id": "88d31db2-3460-4e73-b20e-92350521fb46",
   "metadata": {},
   "outputs": [],
   "source": [
    "import sys, os\n",
    "sys.path.insert(0, '../..')\n",
    "from utils.circuit_utils import get_closest_multiple_of, get_closest_multiple_of_16\n",
    "from utils.job_utils import get_job_data, save_job, load_job\n",
    "from utils.result_utils import baseline_remove, fit_function, single_qubit_count\n",
    "from utils.higher_energy_states.pulse_gate import Sched\n",
    "from utils.higher_energy_states.state_prep import gen_circ"
   ]
  },
  {
   "cell_type": "code",
   "execution_count": 3,
   "id": "f1506ede",
   "metadata": {},
   "outputs": [],
   "source": [
    "with open(r\"../provider.json\", \"r\") as f:\n",
    "    credential = json.load(f)\n",
    "\n",
    "IBMQ.load_account()\n",
    "provider = IBMQ.get_provider(hub = credential[\"hub\"], group = credential[\"group\"], project = credential[\"project\"])\n",
    "backend = provider.get_backend(\"ibm_lagos\")\n",
    "num_qubits = backend.configuration().num_qubits"
   ]
  },
  {
   "cell_type": "code",
   "execution_count": null,
   "id": "bd65e2c5-0c26-4de3-ae45-728fbd24a8ef",
   "metadata": {},
   "outputs": [],
   "source": [
    "sched = Sched(backend)\n",
    "sched.load_gate_data(os.path.join(\"..\", \"data\", f\"{backend.configuration().backend_name}_gate_data.json\"))\n",
    "sched.create_scheds()"
   ]
  },
  {
   "cell_type": "code",
   "execution_count": 11,
   "id": "e76bf509-e887-471b-9e05-ec9535743afe",
   "metadata": {},
   "outputs": [],
   "source": [
    "colors = ['grey', 'green', 'crimson', 'cornflowerblue']"
   ]
  },
  {
   "cell_type": "code",
   "execution_count": null,
   "metadata": {},
   "outputs": [],
   "source": [
    "exp_circ = QuantumCircuit(num_qubits, num_qubits)\n",
    "exp_circ.h(range(num_qubits))\n",
    "exp_circ.measure(range(num_qubits), range(num_qubits))\n",
    "exp_circ.barrier()"
   ]
  },
  {
   "attachments": {},
   "cell_type": "markdown",
   "id": "7fb10d8d",
   "metadata": {},
   "source": [
    "# Do Not Drive Qubits at the End"
   ]
  },
  {
   "cell_type": "code",
   "execution_count": 63,
   "id": "59a8a4f4",
   "metadata": {},
   "outputs": [],
   "source": [
    "sched_list = list(range(num_qubits))\n",
    "\n",
    "reset_circ = QuantumCircuit(num_qubits)\n",
    "reset_circ.reset(range(num_qubits))\n",
    "reset_circ.barrier()\n",
    "\n",
    "csr_circ = gen_circ(0, num_qubits, qubit_list = sched_list, sched = sched, sched_list = range(num_qubits), num_reset = 1, reset_list = None, add_secure_reset=True, measure = False)\n",
    "csr_circ.barrier()\n",
    "\n",
    "measure_circ = QuantumCircuit(num_qubits)\n",
    "measure_circ.measure_all()\n",
    "\n",
    "delay_circ = QuantumCircuit(num_qubits)\n",
    "delay_circ.delay(1000000, range(num_qubits))\n",
    "\n",
    "exp_circ_list = [\n",
    "    [exp_circ, measure_circ.compose(delay_circ)],\n",
    "    [exp_circ.copy().compose(reset_circ), measure_circ.compose(delay_circ)],\n",
    "    [exp_circ.copy().compose(csr_circ), measure_circ.compose(delay_circ)]\n",
    "]\n",
    "exp_circ_list = [transpile(exp_circs, backend) for exp_circs in exp_circ_list]"
   ]
  },
  {
   "cell_type": "markdown",
   "id": "46f72a30",
   "metadata": {},
   "source": [
    "## Submit"
   ]
  },
  {
   "cell_type": "code",
   "execution_count": 67,
   "id": "764efb1e",
   "metadata": {},
   "outputs": [],
   "source": [
    "shots = 1000"
   ]
  },
  {
   "cell_type": "code",
   "execution_count": 68,
   "id": "91813c0f",
   "metadata": {},
   "outputs": [
    {
     "data": {
      "text/plain": [
       "['640777d617598654909794c6',\n",
       " '640777d7175986af059794c7',\n",
       " '640777d95d83d82231c74eb8']"
      ]
     },
     "execution_count": 68,
     "metadata": {},
     "output_type": "execute_result"
    }
   ],
   "source": [
    "# job_id_list = []\n",
    "\n",
    "# job = backend.run(exp_circ_list[0], shots=shots, memory=True)\n",
    "# job_id_list.append(job.job_id())\n",
    "\n",
    "# job = backend.run(exp_circ_list[1], shots=shots, rep_delay=0, init_qubits=False, memory=True)\n",
    "# job_id_list.append(job.job_id())\n",
    "\n",
    "# job = backend.run(exp_circ_list[2], shots=shots, rep_delay=0, init_qubits=False, memory=True)\n",
    "# job_id_list.append(job.job_id())\n",
    "\n",
    "# job_id_list"
   ]
  },
  {
   "cell_type": "code",
   "execution_count": 70,
   "id": "0db9431a",
   "metadata": {},
   "outputs": [],
   "source": [
    "# job_id_list = ['640777d617598654909794c6',\n",
    "#  '640777d7175986af059794c7',\n",
    "#  '640777d95d83d82231c74eb8']\n",
    "# \n",
    "# job_list = [backend.retrieve_job(job_id) for job_id in job_id_list]"
   ]
  },
  {
   "cell_type": "code",
   "execution_count": null,
   "id": "72718697",
   "metadata": {},
   "outputs": [],
   "source": [
    "# save_job(job_list, \"data/attack_circuit_no_drive.pickle\")"
   ]
  },
  {
   "cell_type": "code",
   "execution_count": null,
   "id": "0c5db4df",
   "metadata": {},
   "outputs": [],
   "source": [
    "# job_list = load_job(\"data/attack_circuit_no_drive.pickle\")"
   ]
  },
  {
   "cell_type": "code",
   "execution_count": null,
   "metadata": {},
   "outputs": [],
   "source": [
    "# data_no_drive = [get_cond_count(job) for job in job_list]\n",
    "# save_job(data_no_drive, \"data/attack_circuit_no_drive_data.pickle\")"
   ]
  },
  {
   "cell_type": "code",
   "execution_count": null,
   "metadata": {},
   "outputs": [],
   "source": [
    "data_no_drive = load_job(\"data/attack_circuit_no_drive_data.pickle\")"
   ]
  },
  {
   "cell_type": "code",
   "execution_count": 72,
   "id": "cbf5eca6",
   "metadata": {},
   "outputs": [
    {
     "data": {
      "image/png": "[encoded data removed]",
      "text/plain": [
       "<Figure size 500x300 with 1 Axes>"
      ]
     },
     "metadata": {},
     "output_type": "display_data"
    }
   ],
   "source": [
    "import matplotlib.pyplot as plt\n",
    "mpl.style.use('seaborn')\n",
    "\n",
    "# creating the dataset\n",
    "fig = plt.figure(figsize = (5, 3), dpi = 100)\n",
    "\n",
    "width = 1.5\n",
    "# creating the bar plot\n",
    "for i, mechanism in enumerate([\"Default\", \"Reset\", \"CSR\"]):\n",
    "    x = np.array([0, 0.5]) + i * width\n",
    "    num_0_no_drive = np.sum(data_no_drive[i][0] + data_no_drive[i][1])\n",
    "    num_1_no_drive = np.sum(data_no_drive[i][2] + data_no_drive[i][3])\n",
    "    plt.bar(x[0], np.sum(data_no_drive[i][0]) / num_0_no_drive, color = 'crimson', width = 0.4)\n",
    "    plt.bar(x[1], np.sum(data_no_drive[i][2]) / num_1_no_drive, color = 'cornflowerblue', width = 0.4)\n",
    "\n",
    "plt.xlabel(\"Inter-shot Mechanism\")\n",
    "plt.xticks(np.array([0, width, 2 * width]) + 0.25, [\"Default\", \"Reset\", \"CSR\"])\n",
    "plt.ylabel(\"Probability\")\n",
    "\n",
    "\n",
    "from matplotlib.patches import Rectangle\n",
    "handles = [\n",
    "    Rectangle((0, 0), 1, 0.8, label=r\"$P(0|0)$\", facecolor = 'crimson'),\n",
    "    Rectangle((0, 0), 1, 0.8, label=r\"$P(0|1)$\", facecolor = 'cornflowerblue')\n",
    "]\n",
    "fig.legend(handles=handles, fontsize=10, bbox_to_anchor=(0.75, 0.9))\n",
    "\n",
    "plt.tight_layout()\n",
    "\n",
    "# plt.savefig(\"./figs/trojan_no_drive.pdf\")"
   ]
  },
  {
   "cell_type": "code",
   "execution_count": null,
   "id": "27d6d526",
   "metadata": {},
   "outputs": [],
   "source": []
  },
  {
   "attachments": {},
   "cell_type": "markdown",
   "id": "94f6236a",
   "metadata": {},
   "source": [
    "# Drive Qubits at the End"
   ]
  },
  {
   "cell_type": "code",
   "execution_count": 47,
   "id": "beb337c5",
   "metadata": {},
   "outputs": [],
   "source": [
    "sched_list = list(range(num_qubits))\n",
    "higher_energy_prep_circ = gen_circ(3, num_qubits, qubit_list = sched_list, sched = sched, sched_list = range(num_qubits), num_reset = 0, reset_list = None, measure = False) \n",
    "higher_energy_prep_circ.barrier()\n",
    "\n",
    "reset_circ = QuantumCircuit(num_qubits)\n",
    "reset_circ.reset(range(num_qubits))\n",
    "reset_circ.barrier()\n",
    "\n",
    "csr_circ = gen_circ(0, num_qubits, qubit_list = sched_list, sched = sched, sched_list = range(num_qubits), num_reset = 1, reset_list = None, add_secure_reset=True, measure = False)\n",
    "csr_circ.barrier()\n",
    "\n",
    "measure_circ = QuantumCircuit(num_qubits)\n",
    "measure_circ.measure_all()\n",
    "\n",
    "delay_circ = QuantumCircuit(num_qubits)\n",
    "delay_circ.delay(1000000, range(num_qubits))\n",
    "\n",
    "exp_circ_list = [\n",
    "    [exp_circ.copy().compose(higher_energy_prep_circ), measure_circ.compose(delay_circ)],\n",
    "    [exp_circ.copy().compose(higher_energy_prep_circ).compose(reset_circ), measure_circ.compose(delay_circ)],\n",
    "    [exp_circ.copy().compose(higher_energy_prep_circ).compose(csr_circ), measure_circ.compose(delay_circ)]\n",
    "]\n",
    "exp_circ_list = [transpile(exp_circs, backend) for exp_circs in exp_circ_list]"
   ]
  },
  {
   "cell_type": "markdown",
   "id": "a8c9f2e1",
   "metadata": {},
   "source": [
    "## Submit"
   ]
  },
  {
   "cell_type": "code",
   "execution_count": 51,
   "metadata": {},
   "outputs": [],
   "source": [
    "shots = 1000"
   ]
  },
  {
   "cell_type": "code",
   "execution_count": 55,
   "id": "7c643490",
   "metadata": {},
   "outputs": [
    {
     "data": {
      "text/plain": [
       "['640774dae023ea2213f3de41',\n",
       " '640774dc9602afb7b502161c',\n",
       " '640774dd175986f81d9794a7']"
      ]
     },
     "execution_count": 55,
     "metadata": {},
     "output_type": "execute_result"
    }
   ],
   "source": [
    "# job_id_list = []\n",
    "\n",
    "# job = backend.run(exp_circ_list[0], shots=shots, memory=True)\n",
    "# job_id_list.append(job.job_id())\n",
    "\n",
    "# job = backend.run(exp_circ_list[1], shots=shots, rep_delay=0, init_qubits=False, memory=True)\n",
    "# job_id_list.append(job.job_id())\n",
    "\n",
    "# job = backend.run(exp_circ_list[2], shots=shots, rep_delay=0, init_qubits=False, memory=True)\n",
    "# job_id_list.append(job.job_id())\n",
    "\n",
    "# job_id_list"
   ]
  },
  {
   "cell_type": "code",
   "execution_count": 74,
   "id": "974dea69",
   "metadata": {},
   "outputs": [],
   "source": [
    "# job_id_list = ['6404bec77ad0f90a10a7ffd8',\n",
    "#  '6404bec92751d56e323a2084',\n",
    "#  '6404becad299e3357a4b6d4b']\n",
    "\n",
    "# job_list = [backend.retrieve_job(job_id) for job_id in job_id_list]"
   ]
  },
  {
   "cell_type": "code",
   "execution_count": null,
   "id": "31a2903c",
   "metadata": {},
   "outputs": [],
   "source": [
    "# save_job(job_list, \"data/attack_circuit_drive.pickle\")"
   ]
  },
  {
   "cell_type": "code",
   "execution_count": null,
   "id": "1db03f8a",
   "metadata": {},
   "outputs": [],
   "source": [
    "# job_list = load_job(\"data/attack_circuit_drive.pickle\")"
   ]
  },
  {
   "cell_type": "code",
   "execution_count": null,
   "metadata": {},
   "outputs": [],
   "source": [
    "# data_drive = [get_cond_count(job) for job in job_list]\n",
    "# save_job(data_drive, \"data/attack_circuit_drive_data.pickle\")"
   ]
  },
  {
   "cell_type": "code",
   "execution_count": null,
   "metadata": {},
   "outputs": [],
   "source": [
    "data_drive = load_job(\"data/attack_circuit_drive_data.pickle\")"
   ]
  },
  {
   "cell_type": "code",
   "execution_count": 76,
   "id": "25e71147",
   "metadata": {},
   "outputs": [
    {
     "data": {
      "image/png": "[encoded data removed]",
      "text/plain": [
       "<Figure size 500x300 with 1 Axes>"
      ]
     },
     "metadata": {},
     "output_type": "display_data"
    }
   ],
   "source": [
    "import matplotlib.pyplot as plt\n",
    "mpl.style.use('seaborn')\n",
    "\n",
    "# creating the dataset\n",
    "fig = plt.figure(figsize = (5, 3), dpi = 100)\n",
    "\n",
    "width = 1.5\n",
    "# creating the bar plot\n",
    "for i, mechanism in enumerate([\"Default\", \"Reset\", \"CSR\"]):\n",
    "    x = np.array([0, 0.5]) + i * width\n",
    "\n",
    "    num_0_drive = np.sum(data_drive[i][0] + data_drive[i][1])\n",
    "    num_1_drive = np.sum(data_drive[i][2] + data_drive[i][3])\n",
    "    plt.bar(x[0], np.sum(data_drive[i][0]) / num_0_drive, color = 'crimson', width = 0.4)\n",
    "    plt.bar(x[1], np.sum(data_drive[i][2]) / num_1_drive, color = 'cornflowerblue', width = 0.4)\n",
    "\n",
    "plt.xlabel(\"Inter-shot Mechanism\")\n",
    "plt.xticks(np.array([0, width, 2 * width]) + 0.25, [\"Default\", \"Reset\", \"CSR\"])\n",
    "plt.ylabel(\"Probability\")\n",
    "\n",
    "\n",
    "from matplotlib.patches import Rectangle\n",
    "handles = [\n",
    "    Rectangle((0, 0), 1, 0.8, label=r\"$P(0|0)$\", facecolor = 'crimson'),\n",
    "    Rectangle((0, 0), 1, 0.8, label=r\"$P(0|1)$\", facecolor = 'cornflowerblue')\n",
    "]\n",
    "fig.legend(handles=handles, fontsize=10, bbox_to_anchor=(0.75, 0.9))\n",
    "\n",
    "plt.tight_layout()\n",
    "\n",
    "# plt.savefig(\"./figs/trojan_drive.pdf\")"
   ]
  },
  {
   "cell_type": "code",
   "execution_count": 77,
   "id": "42597fc3",
   "metadata": {},
   "outputs": [
    {
     "data": {
      "image/png": "[encoded data removed]",
      "text/plain": [
       "<Figure size 500x300 with 1 Axes>"
      ]
     },
     "metadata": {},
     "output_type": "display_data"
    }
   ],
   "source": [
    "import matplotlib.pyplot as plt\n",
    "mpl.style.use('seaborn')\n",
    "\n",
    "# creating the dataset\n",
    "fig = plt.figure(figsize = (5, 3), dpi = 100)\n",
    "\n",
    "width = 1.0\n",
    "bar_width = 0.15\n",
    "bar_hatch = 0.3\n",
    "\n",
    "# creating the bar plot\n",
    "for i, mechanism in enumerate([\"Default\", \"Reset\", \"CSR\"]):\n",
    "    x = np.array([-0.3, -0.1, 0.1, 0.3]) + i * width\n",
    "\n",
    "    num_0_no_drive = np.sum(data_no_drive[i][0] + data_no_drive[i][1])\n",
    "    num_1_no_drive = np.sum(data_no_drive[i][2] + data_no_drive[i][3])\n",
    "    plt.bar(x[0], np.sum(data_no_drive[i][0]) / num_0_no_drive, color = 'crimson', alpha = bar_hatch, width = bar_width)\n",
    "    plt.bar(x[1], np.sum(data_no_drive[i][3]) / num_1_no_drive, color = 'cornflowerblue', alpha = bar_hatch\n",
    "    , width = bar_width)\n",
    "\n",
    "    num_0_drive = np.sum(data_drive[i][0] + data_drive[i][1])\n",
    "    num_1_drive = np.sum(data_drive[i][2] + data_drive[i][3])\n",
    "    plt.bar(x[2], np.sum(data_drive[i][0]) / num_0_drive, color = 'crimson', width = bar_width)\n",
    "    plt.bar(x[3], np.sum(data_drive[i][3]) / num_1_drive, color = 'cornflowerblue', width = bar_width)\n",
    "\n",
    "plt.xlabel(\"Inter-shot Mechanism\")\n",
    "plt.xticks(np.array([0, width, 2 * width]), [\"Default\", \"Reset\", \"CSR\"])\n",
    "plt.ylabel(\"Probability\")\n",
    "plt.ylim((0, 1.0))\n",
    "\n",
    "\n",
    "from matplotlib.patches import Rectangle\n",
    "handles = [\n",
    "    Rectangle((0, 0), 1, 0.8, label=r\"$P(0|0)$ ND\", facecolor = 'crimson', alpha = bar_hatch),\n",
    "    Rectangle((0, 0), 1, 0.8, label=r\"$P(1|1)$ ND\", facecolor = 'cornflowerblue', alpha = bar_hatch),\n",
    "    Rectangle((0, 0), 1, 0.8, label=r\"$P(0|0)$ D\", facecolor = 'crimson'),\n",
    "    Rectangle((0, 0), 1, 0.8, label=r\"$P(1|1)$ D\", facecolor = 'cornflowerblue')\n",
    "]\n",
    "fig.legend(handles=handles, fontsize=10, loc='center left', bbox_to_anchor=(0.95, 0.5))\n",
    "\n",
    "plt.tight_layout()\n",
    "\n",
    "# plt.savefig(\"./figs/trojan.pdf\", bbox_inches = \"tight\")"
   ]
  },
  {
   "cell_type": "code",
   "execution_count": null,
   "id": "201aab7e",
   "metadata": {},
   "outputs": [],
   "source": []
  }
 ],
 "metadata": {
  "kernelspec": {
   "display_name": "Python 3.9.12 ('qiskit')",
   "language": "python",
   "name": "python3"
  },
  "language_info": {
   "codemirror_mode": {
    "name": "ipython",
    "version": 3
   },
   "file_extension": ".py",
   "mimetype": "text/x-python",
   "name": "python",
   "nbconvert_exporter": "python",
   "pygments_lexer": "ipython3",
   "version": "3.10.0"
  },
  "vscode": {
   "interpreter": {
    "hash": "0254cfdbd1ec5eeb853fcb587bdc4d782f6ce52d6bf70367b9ef200c67b41767"
   }
  },
  "widgets": {
   "application/vnd.jupyter.widget-state+json": {
    "state": {
     "03c43a8b32e0442f99200bad824894bd": {
      "model_module": "@jupyter-widgets/base",
      "model_module_version": "1.2.0",
      "model_name": "LayoutModel",
      "state": {
       "margin": "0px 0px 10px 0px"
      }
     },
     "07261ceb24274ed48fac421d2c7f2942": {
      "model_module": "@jupyter-widgets/controls",
      "model_module_version": "1.5.0",
      "model_name": "ButtonStyleModel",
      "state": {}
     },
     "08c45224f7df462ebc188a9ab371e1e2": {
      "model_module": "@jupyter-widgets/base",
      "model_module_version": "1.2.0",
      "model_name": "LayoutModel",
      "state": {
       "width": "145px"
      }
     },
     "0f2921e0622245b687d0256f42299010": {
      "model_module": "@jupyter-widgets/controls",
      "model_module_version": "1.5.0",
      "model_name": "HTMLModel",
      "state": {
       "layout": "IPY_MODEL_03c43a8b32e0442f99200bad824894bd",
       "style": "IPY_MODEL_4706f258dc7847289bdeffedb321c8e1",
       "value": "<p style='font-family: IBM Plex Sans, Arial, Helvetica, sans-serif; font-size: 20px; font-weight: medium;'>Circuit Properties</p>"
      }
     },
     "160a97aac4544d1fa474418980b3edf3": {
      "model_module": "@jupyter-widgets/controls",
      "model_module_version": "1.5.0",
      "model_name": "HBoxModel",
      "state": {
       "children": [
        "IPY_MODEL_afa548a0e27f4322857e31e50a721add",
        "IPY_MODEL_4ea5520d814a4f7b9c3efb903a3bc8d2",
        "IPY_MODEL_f5615196740f4d67a7181657fb531ad2",
        "IPY_MODEL_8c83084b2676405ba828588aa164ceb0",
        "IPY_MODEL_f46d418c155b42778d44b7d56ce69b55"
       ],
       "layout": "IPY_MODEL_d9e3b84ace8847a4a278edc40f317109"
      }
     },
     "2ace173d57a3409ea2244c65471b3151": {
      "model_module": "@jupyter-widgets/controls",
      "model_module_version": "1.5.0",
      "model_name": "DescriptionStyleModel",
      "state": {
       "description_width": ""
      }
     },
     "2e5df404320c42c58b988f20517e5ec6": {
      "model_module": "@jupyter-widgets/controls",
      "model_module_version": "1.5.0",
      "model_name": "DescriptionStyleModel",
      "state": {
       "description_width": ""
      }
     },
     "3099ccad830a49e981e8a1841504e4b2": {
      "model_module": "@jupyter-widgets/base",
      "model_module_version": "1.2.0",
      "model_name": "LayoutModel",
      "state": {
       "grid_area": "right",
       "padding": "0px 0px 0px 0px",
       "width": "70px"
      }
     },
     "3961ff88b7c64d0a8a8e5e954e5df5a5": {
      "model_module": "@jupyter-widgets/base",
      "model_module_version": "1.2.0",
      "model_name": "LayoutModel",
      "state": {
       "grid_template_areas": "\n                                       \". . . . right \"\n                                        ",
       "grid_template_columns": "20% 20% 20% 20% 20%",
       "width": "100%"
      }
     },
     "4706f258dc7847289bdeffedb321c8e1": {
      "model_module": "@jupyter-widgets/controls",
      "model_module_version": "1.5.0",
      "model_name": "DescriptionStyleModel",
      "state": {
       "description_width": ""
      }
     },
     "4c9368cb59e649528d58fdc328c55610": {
      "model_module": "@jupyter-widgets/base",
      "model_module_version": "1.2.0",
      "model_name": "LayoutModel",
      "state": {
       "width": "95px"
      }
     },
     "4ea5520d814a4f7b9c3efb903a3bc8d2": {
      "model_module": "@jupyter-widgets/controls",
      "model_module_version": "1.5.0",
      "model_name": "HTMLModel",
      "state": {
       "layout": "IPY_MODEL_08c45224f7df462ebc188a9ab371e1e2",
       "style": "IPY_MODEL_2e5df404320c42c58b988f20517e5ec6",
       "value": "<h5>Backend</h5>"
      }
     },
     "6adfa30d6caf46ee88fd1de53c49dbc6": {
      "model_module": "@jupyter-widgets/base",
      "model_module_version": "1.2.0",
      "model_name": "LayoutModel",
      "state": {
       "width": "190px"
      }
     },
     "6cda74a38113481896eccaeaa5888ef0": {
      "model_module": "@jupyter-widgets/base",
      "model_module_version": "1.2.0",
      "model_name": "LayoutModel",
      "state": {
       "width": "70px"
      }
     },
     "6ed8986627ed4430a041c3426655caa2": {
      "model_module": "@jupyter-widgets/base",
      "model_module_version": "1.2.0",
      "model_name": "LayoutModel",
      "state": {}
     },
     "701102098cae40b2a3ee55dbcc508b6c": {
      "model_module": "@jupyter-widgets/controls",
      "model_module_version": "1.5.0",
      "model_name": "ButtonModel",
      "state": {
       "button_style": "primary",
       "description": "Clear",
       "layout": "IPY_MODEL_3099ccad830a49e981e8a1841504e4b2",
       "style": "IPY_MODEL_07261ceb24274ed48fac421d2c7f2942"
      }
     },
     "8c83084b2676405ba828588aa164ceb0": {
      "model_module": "@jupyter-widgets/controls",
      "model_module_version": "1.5.0",
      "model_name": "HTMLModel",
      "state": {
       "layout": "IPY_MODEL_6cda74a38113481896eccaeaa5888ef0",
       "style": "IPY_MODEL_2ace173d57a3409ea2244c65471b3151",
       "value": "<h5>Queue</h5>"
      }
     },
     "945da7c90b074c96b92250c2ecf16e5d": {
      "model_module": "@jupyter-widgets/controls",
      "model_module_version": "1.5.0",
      "model_name": "DescriptionStyleModel",
      "state": {
       "description_width": ""
      }
     },
     "afa548a0e27f4322857e31e50a721add": {
      "model_module": "@jupyter-widgets/controls",
      "model_module_version": "1.5.0",
      "model_name": "HTMLModel",
      "state": {
       "layout": "IPY_MODEL_6adfa30d6caf46ee88fd1de53c49dbc6",
       "style": "IPY_MODEL_945da7c90b074c96b92250c2ecf16e5d",
       "value": "<h5>Job ID</h5>"
      }
     },
     "bd952c38f7ab480780c92a86ecbd0170": {
      "model_module": "@jupyter-widgets/controls",
      "model_module_version": "1.5.0",
      "model_name": "GridBoxModel",
      "state": {
       "children": [
        "IPY_MODEL_701102098cae40b2a3ee55dbcc508b6c"
       ],
       "layout": "IPY_MODEL_3961ff88b7c64d0a8a8e5e954e5df5a5"
      }
     },
     "c6d628764ae645faabb00f48377035b0": {
      "model_module": "@jupyter-widgets/controls",
      "model_module_version": "1.5.0",
      "model_name": "DescriptionStyleModel",
      "state": {
       "description_width": ""
      }
     },
     "d9e3b84ace8847a4a278edc40f317109": {
      "model_module": "@jupyter-widgets/base",
      "model_module_version": "1.2.0",
      "model_name": "LayoutModel",
      "state": {
       "margin": "0px 0px 0px 37px",
       "width": "600px"
      }
     },
     "f46d418c155b42778d44b7d56ce69b55": {
      "model_module": "@jupyter-widgets/controls",
      "model_module_version": "1.5.0",
      "model_name": "HTMLModel",
      "state": {
       "layout": "IPY_MODEL_6ed8986627ed4430a041c3426655caa2",
       "style": "IPY_MODEL_f484b45a46de49de9d8176a375750431",
       "value": "<h5>Message</h5>"
      }
     },
     "f484b45a46de49de9d8176a375750431": {
      "model_module": "@jupyter-widgets/controls",
      "model_module_version": "1.5.0",
      "model_name": "DescriptionStyleModel",
      "state": {
       "description_width": ""
      }
     },
     "f5615196740f4d67a7181657fb531ad2": {
      "model_module": "@jupyter-widgets/controls",
      "model_module_version": "1.5.0",
      "model_name": "HTMLModel",
      "state": {
       "layout": "IPY_MODEL_4c9368cb59e649528d58fdc328c55610",
       "style": "IPY_MODEL_c6d628764ae645faabb00f48377035b0",
       "value": "<h5>Status</h5>"
      }
     }
    },
    "version_major": 2,
    "version_minor": 0
   }
  }
 },
 "nbformat": 4,
 "nbformat_minor": 5
}
